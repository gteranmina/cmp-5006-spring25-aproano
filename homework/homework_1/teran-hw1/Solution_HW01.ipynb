{
 "cells": [
  {
   "cell_type": "markdown",
   "source": [
    "# Part 1: PicoCTF excercises solution"
   ],
   "metadata": {
    "collapsed": false
   },
   "id": "5850a9d477c982e9"
  },
  {
   "cell_type": "markdown",
   "source": [
    "# 1.1 The numbers (Done)"
   ],
   "metadata": {
    "collapsed": false
   },
   "id": "98b2c412b764a1f3"
  },
  {
   "cell_type": "markdown",
   "source": [
    "For the \"The Numbers\" challenge, the key observation was that the given numbers ranged from 1 to 26, which strongly suggested a simple substitution cipher known as A1Z26, where each number corresponds to a letter in the English alphabet (A=1, B=2, ..., Z=26).\n",
    "\n",
    "# Method 1: Using ASCII Table and List Comprehension\n",
    "I chose to use ASCII conversion because it provides a quick and efficient way to map numbers to letters. Since the ASCII value of 'A' is 65, the formula chr(num + 64) correctly maps numbers from 1–26 to their corresponding uppercase letters. Using list comprehension, I efficiently converted all numbers in one line.\n",
    "\n",
    "# Method 2: Using a Dictionary for Mapping\n",
    "I opted for this approach as an alternative to demonstrate a different way of solving the problem. Instead of relying on ASCII calculations, I explicitly created a dictionary mapping of numbers to letters. This method improves readability and can be useful when working with modified ciphers where direct ASCII manipulation is not applicable.\n"
   ],
   "metadata": {
    "collapsed": false
   },
   "id": "4e98e894c8a72465"
  },
  {
   "cell_type": "code",
   "execution_count": 30,
   "id": "initial_id",
   "metadata": {
    "collapsed": true,
    "ExecuteTime": {
     "end_time": "2025-03-07T13:44:57.628667500Z",
     "start_time": "2025-03-07T13:44:57.475068200Z"
    }
   },
   "outputs": [
    {
     "name": "stdout",
     "output_type": "stream",
     "text": [
      "Method 1: picoCTF{PICOCTFTHENUMBERSMASON}\n",
      "Method 2: picoCTF{PICOCTFTHENUMBERSMASON}\n"
     ]
    }
   ],
   "source": [
    "# Method 1: Using ASCII table and list comprehension\n",
    "# List of numbers extracted from the image\n",
    "numbers = [16, 9, 3, 15, 3, 20, 6, 20, 8, 5, 14, 21, 13, 2, 5, 18, 19, 13, 1, 19, 15, 14]\n",
    "\n",
    "# Convert numbers to letters based on the A1Z26 cipher (A=1, B=2, ... Z=26)\n",
    "decoded_text = ''.join(chr(num + 64) for num in numbers)  # Adjusting to match the ASCII table\n",
    "flag = f\"picoCTF{{{decoded_text}}}\"\n",
    "print(\"Method 1:\", flag)  # Answer: picoCTF{THENUMBERSMASON}\n",
    "\n",
    "# Method 2: Using a dictionary for mapping\n",
    "# Create a dictionary that maps numbers to letters (A=1, B=2, ... Z=26)\n",
    "mapping = {i: chr(i + 64) for i in range(1, 27)}\n",
    "\n",
    "# List of numbers extracted from the image\n",
    "numbers = [16, 9, 3, 15, 3, 20, 6, 20, 8, 5, 14, 21, 13, 2, 5, 18, 19, 13, 1, 19, 15, 14]\n",
    "\n",
    "# Use the dictionary to convert each number to its corresponding letter\n",
    "decoded_text = ''.join(mapping[num] for num in numbers)\n",
    "flag = f\"picoCTF{{{decoded_text}}}\"\n",
    "print(\"Method 2:\", flag)  # Answer: picoCTF{THENUMBERSMASON}"
   ]
  },
  {
   "cell_type": "markdown",
   "source": [
    "# 1.2 interencdec (Done)"
   ],
   "metadata": {
    "collapsed": false
   },
   "id": "a7b5cd08e796ac62"
  },
  {
   "cell_type": "markdown",
   "source": [
    "For the \"interencdec\" challenge, the main goal was to decode an encoded flag by applying multiple layers of encoding techniques. The two primary steps involved were Base64 decoding and Caesar cipher decryption.\n",
    "\n",
    "# Method 1: Using an Iterative Caesar Shift Function\n",
    "I initially chose this approach because it provides a step-by-step breakdown of the decryption process, making it easier to understand how each transformation affects the text.\n",
    "\n",
    "Base64 Decoding (Twice):\n",
    "\n",
    "The flag was encoded using Base64 two times, so the first step was to decode it twice to obtain the intermediate text.\n",
    "I used Python’s base64.b64decode() function to achieve this.\n",
    "Caesar Cipher Decryption (Shift of 7):\n",
    "\n",
    "The resulting text was encoded with a Caesar cipher, which is a simple shift cipher that moves letters forward or backward in the alphabet.\n",
    "By shifting the letters backward by 7, I was able to restore the original flag text.\n",
    "I implemented a custom Caesar shift function that loops through each character, checking if it's a letter, and then shifting it accordingly while preserving the case (uppercase/lowercase).\n",
    "\n",
    "# Method 2: Using a Translation Table for the Caesar Cipher\n",
    "This method was chosen as a more efficient and Pythonic alternative to the first approach.\n",
    "\n",
    "Base64 Decoding (Twice):\n",
    "\n",
    "The same double Base64 decoding was applied.\n",
    "Caesar Cipher Decryption with str.translate():\n",
    "\n",
    "Instead of looping through each character manually, I used str.translate() with a precomputed translation table to map letters backward by 7 positions.\n",
    "This approach improves performance because it eliminates the need for iterative character checks."
   ],
   "metadata": {
    "collapsed": false
   },
   "id": "c2e4cfa10494a863"
  },
  {
   "cell_type": "code",
   "execution_count": 1,
   "outputs": [
    {
     "name": "stdout",
     "output_type": "stream",
     "text": [
      "Original encoded text: YidkM0JxZGtwQlRYdHFhR3g2YUhsZmF6TnFlVGwzWVROclgyMHdNakV5TnpVNGZRPT0nCg==\n",
      "After first Base64 decoding: \"b'd3BqdkpBTXtqaGx6aHlfazNqeTl3YTNrX20wMjEyNzU4fQ=='\"\n",
      "Removed extra delimiters. New string: 'd3BqdkpBTXtqaGx6aHlfazNqeTl3YTNrX20wMjEyNzU4fQ=='\n",
      "After second Base64 decoding: wpjvJAM{jhlzhy_k3jy9wa3k_m0212758}\n",
      "Final flag (Method 1): picoCTF{caesar_d3cr9pt3d_f0212758}\n"
     ]
    }
   ],
   "source": [
    "# Method 1: Using an Iterative Caesar Shift Function\n",
    "\n",
    "import base64\n",
    "import codecs\n",
    "\n",
    "# Method 1: Using iterative Caesar shift with a loop\n",
    "\n",
    "# Step 1: Read the encoded text from the file.\n",
    "# Ensure that the file \"enc_flag\" contains exactly:\n",
    "# YidkM0JxZGtwQlRYdHFhR3g2YUhsZmF6TnFlVGwzWVROclgyMHdNakV5TnpVNGZRPT0nCg==\n",
    "with open(\"enc_flag\", \"r\") as file:\n",
    "    encoded_text = file.read().strip()\n",
    "\n",
    "print(\"Original encoded text:\", encoded_text)\n",
    "\n",
    "# Step 2: Perform the first Base64 decoding.\n",
    "decoded_bytes_1 = base64.b64decode(encoded_text)\n",
    "decoded_text_1 = decoded_bytes_1.decode(\"utf-8\", errors=\"ignore\").strip()\n",
    "print(\"After first Base64 decoding:\", repr(decoded_text_1))\n",
    "\n",
    "# Step 3: Remove extra byte-string delimiters if present.\n",
    "if decoded_text_1.startswith(\"b'\") and decoded_text_1.endswith(\"'\"):\n",
    "    decoded_text_1 = decoded_text_1[2:-1].strip()\n",
    "    print(\"Removed extra delimiters. New string:\", repr(decoded_text_1))\n",
    "else:\n",
    "    print(\"No extra delimiters found.\")\n",
    "\n",
    "# Step 4: Perform the second Base64 decoding.\n",
    "try:\n",
    "    decoded_bytes_2 = base64.b64decode(decoded_text_1)\n",
    "    decoded_text_2 = decoded_bytes_2.decode(\"utf-8\", errors=\"ignore\").strip()\n",
    "except Exception as e:\n",
    "    print(\"Error during second Base64 decoding:\", e)\n",
    "    decoded_text_2 = \"\"\n",
    "\n",
    "print(\"After second Base64 decoding:\", decoded_text_2)\n",
    "\n",
    "# Step 5: Define a Caesar shift function to shift letters backward by 7.\n",
    "def caesar_shift(text, shift):\n",
    "    result = \"\"\n",
    "    for char in text:\n",
    "        if char.isalpha():\n",
    "            # Check if the character is uppercase or lowercase\n",
    "            if char.isupper():\n",
    "                base = ord('A')\n",
    "                result += chr((ord(char) - base - shift) % 26 + base)\n",
    "            else:\n",
    "                base = ord('a')\n",
    "                result += chr((ord(char) - base - shift) % 26 + base)\n",
    "        else:\n",
    "            result += char\n",
    "    return result\n",
    "\n",
    "# Apply the Caesar cipher with a shift of 7 (i.e., shifting letters 7 positions backward)\n",
    "final_flag = caesar_shift(decoded_text_2, 7)\n",
    "print(\"Final flag (Method 1):\", final_flag) # Answer: picoCTF{caesar_d3cr9pt3d_f0212758}\n"
   ],
   "metadata": {
    "collapsed": false,
    "ExecuteTime": {
     "end_time": "2025-03-09T22:04:51.400319700Z",
     "start_time": "2025-03-09T22:04:51.370082900Z"
    }
   },
   "id": "de534e3050b2cafa"
  },
  {
   "cell_type": "code",
   "execution_count": 5,
   "outputs": [
    {
     "name": "stdout",
     "output_type": "stream",
     "text": [
      "Original encoded text: YidkM0JxZGtwQlRYdHFhR3g2YUhsZmF6TnFlVGwzWVROclgyMHdNakV5TnpVNGZRPT0nCg==\n",
      "After first Base64 decoding: \"b'd3BqdkpBTXtqaGx6aHlfazNqeTl3YTNrX20wMjEyNzU4fQ=='\"\n",
      "Removed extra delimiters. New string: 'd3BqdkpBTXtqaGx6aHlfazNqeTl3YTNrX20wMjEyNzU4fQ=='\n",
      "After second Base64 decoding: wpjvJAM{jhlzhy_k3jy9wa3k_m0212758}\n",
      "Final flag (Method 2): picoCTF{caesar_d3cr9pt3d_f0212758}\n"
     ]
    }
   ],
   "source": [
    "# Method 2: Using a Translation Table for the Caesar Cipher\n",
    "\n",
    "import base64\n",
    "import string\n",
    "\n",
    "# Method 2: Using str.translate with a translation table for the Caesar cipher\n",
    "\n",
    "# Step 1: Read the encoded text from the file.\n",
    "with open(\"enc_flag\", \"r\") as file:\n",
    "    encoded_text = file.read().strip()\n",
    "\n",
    "print(\"Original encoded text:\", encoded_text)\n",
    "\n",
    "# Step 2: Perform the first Base64 decoding.\n",
    "decoded_bytes_1 = base64.b64decode(encoded_text)\n",
    "decoded_text_1 = decoded_bytes_1.decode(\"utf-8\", errors=\"ignore\").strip()\n",
    "print(\"After first Base64 decoding:\", repr(decoded_text_1))\n",
    "\n",
    "# Step 3: Remove extra byte-string delimiters if present.\n",
    "if decoded_text_1.startswith(\"b'\") and decoded_text_1.endswith(\"'\"):\n",
    "    decoded_text_1 = decoded_text_1[2:-1].strip()\n",
    "    print(\"Removed extra delimiters. New string:\", repr(decoded_text_1))\n",
    "else:\n",
    "    print(\"No extra delimiters found.\")\n",
    "\n",
    "# Step 4: Perform the second Base64 decoding.\n",
    "try:\n",
    "    decoded_bytes_2 = base64.b64decode(decoded_text_1)\n",
    "    decoded_text_2 = decoded_bytes_2.decode(\"utf-8\", errors=\"ignore\").strip()\n",
    "except Exception as e:\n",
    "    print(\"Error during second Base64 decoding:\", e)\n",
    "    decoded_text_2 = \"\"\n",
    "\n",
    "print(\"After second Base64 decoding:\", decoded_text_2)\n",
    "\n",
    "# Step 5: Create a translation table for the Caesar cipher that shifts letters backward by 7.\n",
    "def caesar_shift_translate(text, shift):\n",
    "    # Build mapping for lowercase letters\n",
    "    mapping = {}\n",
    "    for i, letter in enumerate(string.ascii_lowercase):\n",
    "        mapping[letter] = string.ascii_lowercase[(i - shift) % 26]\n",
    "    # Build mapping for uppercase letters\n",
    "    for i, letter in enumerate(string.ascii_uppercase):\n",
    "        mapping[letter] = string.ascii_uppercase[(i - shift) % 26]\n",
    "    # Create a translation table and apply it\n",
    "    trans_table = str.maketrans(mapping)\n",
    "    return text.translate(trans_table)\n",
    "\n",
    "# Apply the Caesar cipher using the translation table with a shift of 7.\n",
    "final_flag = caesar_shift_translate(decoded_text_2, 7)\n",
    "print(\"Final flag (Method 2):\", final_flag) # Answer: picoCTF{caesar_d3cr9pt3d_f0212758}\n"
   ],
   "metadata": {
    "collapsed": false,
    "ExecuteTime": {
     "end_time": "2025-03-09T22:10:34.644348500Z",
     "start_time": "2025-03-09T22:10:34.634398600Z"
    }
   },
   "id": "cabdea0dc86692d6"
  },
  {
   "cell_type": "markdown",
   "source": [
    "# 1.3 C3 (Done)"
   ],
   "metadata": {
    "collapsed": false
   },
   "id": "b6922f970005dddf"
  },
  {
   "cell_type": "markdown",
   "source": [
    "For the \"C3\" challenge, the goal was to decrypt an encrypted string using a custom lookup-based substitution cipher followed by extracting specific characters based on cube indices.\n",
    "\n",
    "# Method 1: Iterative Approach (Using Loops)\n",
    "This approach was chosen to break down the decryption process step by step for clarity.\n",
    "\n",
    "Stage 1: Lookup Table Substitution Decryption\n",
    "\n",
    "- The ciphertext consists of characters that must be mapped to a different set of characters using two lookup tables:\n",
    "        * lookup2 contains the characters found in the encrypted text.\n",
    "        * lookup1 holds the corresponding decrypted characters.\n",
    "- For each character in the ciphertext:\n",
    "        * Find its index in lookup2.\n",
    "        * Compute a new index by adding the previous index (to introduce variability) and taking the modulo 40.\n",
    "        * Use the new index to retrieve the decrypted character from lookup1.\n",
    "    * This step transforms the ciphertext into a readable intermediate string.\n",
    "      \n",
    "Stage 2: Extracting Characters at Cube Indices\n",
    "\n",
    "- The next step involves selecting characters at positions that are perfect cubes (1³, 2³, 3³, ...).\n",
    "- This is done iteratively by looping and selecting characters at those computed indices.\n",
    "\n",
    "Final Output\n",
    "\n",
    "- The extracted characters form the final flag, wrapped in picoCTF{}.\n",
    "\n",
    "# Method 2: Using List Comprehension for Cube Index Extraction\n",
    "This method was implemented to make the second stage of extraction more efficient.\n",
    "\n",
    "Stage 1: Same Lookup Table Decryption\n",
    "\n",
    "The same decryption technique from Method 1 was applied.\n",
    "Stage 2: Optimized Cube Index Extraction with List Comprehension\n",
    "\n",
    "Instead of using a loop, I used list comprehension to compute valid cube indices up to the maximum cube root within the text length.\n",
    "Then, the characters at these positions were extracted in a single line.\n",
    "Final Output\n",
    "\n",
    "The flag remains the same: picoCTF{adlibs}."
   ],
   "metadata": {
    "collapsed": false
   },
   "id": "c9e78e5d6053d6e6"
  },
  {
   "cell_type": "code",
   "execution_count": 33,
   "outputs": [
    {
     "data": {
      "text/plain": "'# stage1.py\\n\\n# Texto del ciphertext proporcionado:\\nciphertext = (\"DLSeGAGDgBNJDQJDCFSFnRBIDjgHoDFCFtHDgJpiHtGDmMAQFnRBJKkBAsTMrsPSDDnEFCFtIbEDtDCIbFCFtHTJDKerFl\"\\n              \"dbFObFCFtLBFkBAAAPFnRBJGEkerFlcPgKkImHnIlATJDKbTbFOkdNnsgbnJRMFnRBNAFkBAAAbrcbTKAkOgFpOgFpOpkBAAA\"\\n              \"AAAAiClFGIPFnRBaKliCgClFGtIBAAAAAAAOgGEkImHnIl\")\\n\\n# Código proporcionado:\\nimport sys\\n\\nlookup1 = \"\\n \"#()*+/1:=[]abcdefghijklmnopqrstuvwxyz\"\\nlookup2 = \"ABCDEFGHIJKLMNOPQRSTabcdefghijklmnopqrst\"\\n\\nout = \"\"\\n\\nprev = 0\\nfor char in ciphertext:\\n  index_2 = lookup2.index(char)\\n  index_1 = (index_2 + prev) % 40\\n  out += lookup1[index_1]\\n  prev = index_1\\n\\nsys.stdout.write(out)\\n\\n# stage2.py\\n\\n#asciiorder\\n#fortychars\\n#selfinput\\n#pythontwo\\n\\nchars = \"\"\\nfrom fileinput import input\\nfor line in input():\\n    chars += line\\nb = 1 / 1\\n\\nfor i in range(len(chars)):\\n    if i == b * b * b:\\n        print(chars[i]) #prints\\n        b += 1 / 1\\n\\n# comando para correr el codigo \"python3 stage1.py | python3 stage2.py\"\\n# respuesta: picoCTF{adlibs}'"
     },
     "execution_count": 33,
     "metadata": {},
     "output_type": "execute_result"
    }
   ],
   "source": [
    "# stage1.py\n",
    "\n",
    "# Texto del ciphertext proporcionado:\n",
    "ciphertext = (\"DLSeGAGDgBNJDQJDCFSFnRBIDjgHoDFCFtHDgJpiHtGDmMAQFnRBJKkBAsTMrsPSDDnEFCFtIbEDtDCIbFCFtHTJDKerFl\"\n",
    "              \"dbFObFCFtLBFkBAAAPFnRBJGEkerFlcPgKkImHnIlATJDKbTbFOkdNnsgbnJRMFnRBNAFkBAAAbrcbTKAkOgFpOgFpOpkBAAA\"\n",
    "              \"AAAAiClFGIPFnRBaKliCgClFGtIBAAAAAAAOgGEkImHnIl\")\n",
    "\n",
    "# Código proporcionado:\n",
    "import sys\n",
    "\n",
    "lookup1 = \"\\n \\\"#()*+/1:=[]abcdefghijklmnopqrstuvwxyz\"\n",
    "lookup2 = \"ABCDEFGHIJKLMNOPQRSTabcdefghijklmnopqrst\"\n",
    "\n",
    "out = \"\"\n",
    "\n",
    "prev = 0\n",
    "for char in ciphertext:\n",
    "  index_2 = lookup2.index(char)\n",
    "  index_1 = (index_2 + prev) % 40\n",
    "  out += lookup1[index_1]\n",
    "  prev = index_1\n",
    "\n",
    "sys.stdout.write(out)\n",
    "\n",
    "# stage2.py\n",
    "\n",
    "#asciiorder\n",
    "#fortychars\n",
    "#selfinput\n",
    "#pythontwo\n",
    "\n",
    "chars = \"\"\n",
    "from fileinput import input\n",
    "for line in input():\n",
    "    chars += line\n",
    "b = 1 / 1\n",
    "\n",
    "for i in range(len(chars)):\n",
    "    if i == b * b * b:\n",
    "        print(chars[i]) #prints\n",
    "        b += 1 / 1\n",
    "\n",
    "# comando para correr el codigo \"python3 stage1.py | python3 stage2.py\"\n",
    "# respuesta: picoCTF{adlibs}"
   ],
   "metadata": {
    "collapsed": false,
    "ExecuteTime": {
     "end_time": "2025-03-07T13:44:57.730191700Z",
     "start_time": "2025-03-07T13:44:57.512340Z"
    }
   },
   "id": "4c796430ffa51cd8"
  },
  {
   "cell_type": "code",
   "execution_count": 34,
   "outputs": [
    {
     "name": "stdout",
     "output_type": "stream",
     "text": [
      "Method 1 Final flag: picoCTF{adlibs}\n"
     ]
    }
   ],
   "source": [
    "# Method 1: Iterative Approach (Using Loops for Both Stages)\n",
    "\n",
    "import sys\n",
    "\n",
    "# ----- Stage 1: Decryption using lookup tables -----\n",
    "\n",
    "# Provided ciphertext string.\n",
    "ciphertext = (\"DLSeGAGDgBNJDQJDCFSFnRBIDjgHoDFCFtHDgJpiHtGDmMAQFnRBJKkBAsTMrsPSDDnEFCFtIbEDtDCIbFCFtHTJDKerFl\"\n",
    "              \"dbFObFCFtLBFkBAAAPFnRBJGEkerFlcPgKkImHnIlATJDKbTbFOkdNnsgbnJRMFnRBNAFkBAAAbrcbTKAkOgFpOgFpOpkBAAA\"\n",
    "              \"AAAAiClFGIPFnRBaKliCgClFGtIBAAAAAAAOgGEkImHnIl\")\n",
    "\n",
    "# Lookup strings for decryption.\n",
    "lookup1 = \"\\n \\\"#()*+/1:=[]abcdefghijklmnopqrstuvwxyz\"\n",
    "lookup2 = \"ABCDEFGHIJKLMNOPQRSTabcdefghijklmnopqrst\"\n",
    "\n",
    "# Initialize the output string and a variable to hold the previous index.\n",
    "stage1_output = \"\"\n",
    "prev = 0\n",
    "\n",
    "# For each character in the ciphertext, find its index in lookup2.\n",
    "# Then compute a new index by adding the previous value and taking modulo 40.\n",
    "# Use that new index to pick a character from lookup1.\n",
    "for char in ciphertext:\n",
    "    index_2 = lookup2.index(char)\n",
    "    index_1 = (index_2 + prev) % 40\n",
    "    stage1_output += lookup1[index_1]\n",
    "    prev = index_1\n",
    "\n",
    "# At this point, stage1_output contains the decrypted message from stage1.\n",
    "# For example, it might look like a long string of characters.\n",
    "\n",
    "# ----- Stage 2: Extract characters at perfect cube indices -----\n",
    "# This stage prints out characters at indices that are perfect cubes: 1^3, 2^3, 3^3, etc.\n",
    "extracted_chars = \"\"\n",
    "cube = 1\n",
    "while (cube ** 3) < len(stage1_output):\n",
    "    index = cube ** 3  # Calculate the cube index (e.g., 1, 8, 27, ...)\n",
    "    extracted_chars += stage1_output[index]\n",
    "    cube += 1\n",
    "\n",
    "# The final flag is obtained by wrapping the extracted string in the picoCTF flag format.\n",
    "flag = f\"picoCTF{{{extracted_chars}}}\"\n",
    "print(\"Method 1 Final flag:\", flag) # Answer: picoCTF{adlibs}\n"
   ],
   "metadata": {
    "collapsed": false,
    "ExecuteTime": {
     "end_time": "2025-03-07T13:44:57.748700300Z",
     "start_time": "2025-03-07T13:44:57.522851100Z"
    }
   },
   "id": "953f8a7024e09a8f"
  },
  {
   "cell_type": "code",
   "execution_count": 35,
   "outputs": [
    {
     "name": "stdout",
     "output_type": "stream",
     "text": [
      "Method 2 Final flag: picoCTF{adlibs}\n"
     ]
    }
   ],
   "source": [
    "# Method 2: Using List Comprehension for Cube Index Extraction\n",
    "\n",
    "import sys\n",
    "import math\n",
    "\n",
    "# ----- Stage 1: Decryption using lookup tables -----\n",
    "\n",
    "# Provided ciphertext string.\n",
    "ciphertext = (\"DLSeGAGDgBNJDQJDCFSFnRBIDjgHoDFCFtHDgJpiHtGDmMAQFnRBJKkBAsTMrsPSDDnEFCFtIbEDtDCIbFCFtHTJDKerFl\"\n",
    "              \"dbFObFCFtLBFkBAAAPFnRBJGEkerFlcPgKkImHnIlATJDKbTbFOkdNnsgbnJRMFnRBNAFkBAAAbrcbTKAkOgFpOgFpOpkBAAA\"\n",
    "              \"AAAAiClFGIPFnRBaKliCgClFGtIBAAAAAAAOgGEkImHnIl\")\n",
    "\n",
    "# Lookup strings for decryption.\n",
    "lookup1 = \"\\n \\\"#()*+/1:=[]abcdefghijklmnopqrstuvwxyz\"\n",
    "lookup2 = \"ABCDEFGHIJKLMNOPQRSTabcdefghijklmnopqrst\"\n",
    "\n",
    "# Build the stage1 output string using a simple loop.\n",
    "prev = 0\n",
    "stage1_output = \"\"\n",
    "for char in ciphertext:\n",
    "    index_2 = lookup2.index(char)\n",
    "    index_1 = (index_2 + prev) % 40\n",
    "    stage1_output += lookup1[index_1]\n",
    "    prev = index_1\n",
    "\n",
    "# ----- Stage 2: Extract characters at cube indices using list comprehension -----\n",
    "# Calculate the maximum cube value that is within the bounds of stage1_output.\n",
    "max_cube_root = int(math.pow(len(stage1_output), 1/3))\n",
    "\n",
    "# Build a list of cube indices (1^3, 2^3, 3^3, ...) that are valid indices in stage1_output.\n",
    "cube_indices = [i**3 for i in range(1, max_cube_root + 1) if i**3 < len(stage1_output)]\n",
    "\n",
    "# Extract the characters from stage1_output at those cube indices.\n",
    "extracted_chars = \"\".join(stage1_output[i] for i in cube_indices)\n",
    "\n",
    "# Combine the result into the final flag.\n",
    "flag = f\"picoCTF{{{extracted_chars}}}\"\n",
    "print(\"Method 2 Final flag:\", flag) # Answer: picoCTF{adlibs}"
   ],
   "metadata": {
    "collapsed": false,
    "ExecuteTime": {
     "end_time": "2025-03-07T13:44:57.757698700Z",
     "start_time": "2025-03-07T13:44:57.534252600Z"
    }
   },
   "id": "9bddfe28331fe25a"
  },
  {
   "cell_type": "markdown",
   "source": [
    "# 1.4 HideToSee (Done)"
   ],
   "metadata": {
    "collapsed": false
   },
   "id": "d76af10ffb4ad041"
  },
  {
   "cell_type": "markdown",
   "source": [
    "First, we downloaded the image file and began by checking its metadata using ExifTool, which didn't reveal any clues. Next, we ran a strings analysis to look for hidden text sequences within the file, but that also didn't provide any leads. We then used Binwalk to inspect for embedded files or data and found nothing useful. Finally, we applied Steghide to extract hidden files, which prompted us for a passphrase (left blank) and successfully extracted an \"encrypted.txt\" file containing a suspicious string. We identified that the string was likely encoded using the Atbash cipher, which we then decoded to reveal the flag.\n",
    "\n",
    "The cmd command to found the flag: steghide extract -sf atbash.jpg"
   ],
   "metadata": {
    "collapsed": false
   },
   "id": "ec46ee93865fa007"
  },
  {
   "cell_type": "markdown",
   "source": [
    "For the \"HideToSee\" challenge, the goal was to decrypt a given Atbash cipher encoded message. The Atbash cipher is a simple monoalphabetic substitution cipher where each letter in the alphabet is replaced by its mirror image (e.g., A → Z, B → Y, ..., Z → A).\n",
    "\n",
    "# Method 1: Using a Dictionary for Atbash Mapping\n",
    "I chose this method to provide a clear and structured way to map letters to their reversed counterparts.\n",
    "\n",
    "Atbash Cipher Mapping:\n",
    "\n",
    "- I created two strings:\n",
    "    - One with the normal alphabet (ABCDEFGHIJKLMNOPQRSTUVWXYZ).\n",
    "    - One with the reversed alphabet (ZYXWVUTSRQPONMLKJIHGFEDCBA).\n",
    "- Then, I built a dictionary that maps each letter (both uppercase and lowercase) to its corresponding Atbash substitution.\n",
    "\n",
    "Decryption Process:\n",
    "\n",
    "- The program iterates over each character in the ciphertext.\n",
    "- If the character exists in the mapping, it is replaced with its corresponding Atbash letter.\n",
    "- Non-alphabetic characters (such as numbers, braces, and underscores) remain unchanged.\n",
    "\n",
    "\n",
    "# Method 2: Using str.maketrans() for Translation\n",
    "This method provides a more efficient and Pythonic approach using built-in translation functions.\n",
    "\n",
    "Creating the Translation Table:\n",
    "\n",
    "- I used Python’s str.maketrans() to create a mapping of normal to reversed alphabet.\n",
    "- The table is constructed for both uppercase and lowercase letters.\n",
    "\n",
    "Decryption Process:\n",
    "\n",
    "- The function translate() is applied to the ciphertext, instantly replacing each letter with its Atbash counterpart in a single step.\n",
    "- This approach improves performance by eliminating the need for loops and manual dictionary lookups."
   ],
   "metadata": {
    "collapsed": false
   },
   "id": "c104a75df92a7c6d"
  },
  {
   "cell_type": "code",
   "execution_count": 2,
   "outputs": [
    {
     "name": "stdout",
     "output_type": "stream",
     "text": [
      "Original encrypted text: krxlXGU{zgyzhs_xizxp_05y2z65z}\n",
      "Decrypted text: picoCTF{atbash_crack_05b2a65a}\n"
     ]
    }
   ],
   "source": [
    "# Method 1: Using a Dictionary for Atbash Mapping\n",
    "\n",
    "#!/usr/bin/env python3\n",
    "\n",
    "def atbash_decrypt(ciphertext):\n",
    "    # Create an Atbash mapping dictionary:\n",
    "    # A -> Z, B -> Y, C -> X, etc.\n",
    "    alphabet = \"ABCDEFGHIJKLMNOPQRSTUVWXYZ\"\n",
    "    reverse_alphabet = alphabet[::-1]  # \"ZYXWVUTSRQPONMLKJIHGFEDCBA\"\n",
    "\n",
    "    # Build the mapping for both uppercase and lowercase letters\n",
    "    mapping = {}\n",
    "    for i in range(len(alphabet)):\n",
    "        # Map uppercase letters\n",
    "        mapping[alphabet[i]] = reverse_alphabet[i]\n",
    "        # Map lowercase letters\n",
    "        mapping[alphabet[i].lower()] = reverse_alphabet[i].lower()\n",
    "\n",
    "    # Decrypt the ciphertext using the mapping\n",
    "    plaintext = []\n",
    "    for char in ciphertext:\n",
    "        if char in mapping:\n",
    "            plaintext.append(mapping[char])\n",
    "        else:\n",
    "            # Leave characters that are not in the mapping (numbers, braces, underscores, etc.) unchanged\n",
    "            plaintext.append(char)\n",
    "\n",
    "    return \"\".join(plaintext)\n",
    "\n",
    "\n",
    "text_to_decrypt = \"krxlXGU{zgyzhs_xizxp_05y2z65z}\" \n",
    "result = atbash_decrypt(text_to_decrypt)\n",
    "print(\"Original encrypted text:\", text_to_decrypt)\n",
    "print(\"Decrypted text:\", result)  # Answer: picoCTF{atbash_crack_ac751ec6}\n"
   ],
   "metadata": {
    "collapsed": false,
    "ExecuteTime": {
     "end_time": "2025-03-09T22:23:57.243642Z",
     "start_time": "2025-03-09T22:23:57.236734700Z"
    }
   },
   "id": "fc151f0cb01e6617"
  },
  {
   "cell_type": "code",
   "execution_count": 37,
   "outputs": [
    {
     "name": "stdout",
     "output_type": "stream",
     "text": [
      "Original encrypted text: krxlXGU{zgyzhs_xizxp_zx751vx6}\n",
      "Decrypted text: picoCTF{atbash_crack_ac751ec6}\n"
     ]
    }
   ],
   "source": [
    "# Method 2: Using Python’s str.maketrans for Translation\n",
    "\n",
    "#!/usr/bin/env python3\n",
    "import string\n",
    "\n",
    "def atbash_decrypt_translate(ciphertext):\n",
    "    # Define the uppercase and lowercase alphabets\n",
    "    upper = string.ascii_uppercase\n",
    "    lower = string.ascii_lowercase\n",
    "\n",
    "    # Create the reversed alphabets for the Atbash cipher\n",
    "    upper_reversed = upper[::-1]\n",
    "    lower_reversed = lower[::-1]\n",
    "\n",
    "    # Create a translation table mapping each letter to its Atbash equivalent\n",
    "    translation_table = str.maketrans(upper + lower, upper_reversed + lower_reversed)\n",
    "    \n",
    "    # Translate the ciphertext using the translation table\n",
    "    return ciphertext.translate(translation_table)\n",
    "\n",
    "\n",
    "text_to_decrypt = \"krxlXGU{zgyzhs_xizxp_zx751vx6}\"\n",
    "result = atbash_decrypt_translate(text_to_decrypt)\n",
    "print(\"Original encrypted text:\", text_to_decrypt)\n",
    "print(\"Decrypted text:\", result)  # Answer: picoCTF{atbash_crack_ac751ec6}\n"
   ],
   "metadata": {
    "collapsed": false,
    "ExecuteTime": {
     "end_time": "2025-03-07T13:44:57.761698700Z",
     "start_time": "2025-03-07T13:44:57.554239100Z"
    }
   },
   "id": "4a8e8961be0cfcc6"
  },
  {
   "cell_type": "markdown",
   "source": [
    "# 1.5 rsa_oracle (Done)"
   ],
   "metadata": {
    "collapsed": false
   },
   "id": "daaf4279485a8252"
  },
  {
   "cell_type": "markdown",
   "source": [
    "For the \"rsa_oracle\" challenge, the goal was to exploit an RSA decryption oracle vulnerability using a blinding attack to recover a secret password, which could then be used to decrypt a file.\n",
    "\n",
    "# Method 1: Step-by-Step Inline Process\n",
    "This method follows a sequential approach, executing each stage in order with inline processing.\n",
    "\n",
    "Connecting to the RSA Oracle:\n",
    "\n",
    "- The script establishes a connection to the remote RSA oracle server.\n",
    "- It waits for an indication that the oracle is ready to decrypt messages.\n",
    "\n",
    "Reading the Ciphertext from a File:\n",
    "\n",
    "- The encrypted password is stored in password.enc, so it is read and converted into an integer.\n",
    "\n",
    "Obtaining a Blinding Factor:\n",
    "\n",
    "- The RSA oracle can encrypt arbitrary values.\n",
    "- The script requests the encryption of the number 2 to obtain c_a, which is the ciphertext corresponding to 2.\n",
    "\n",
    "Blinded Decryption Attack:\n",
    "\n",
    "- The blinded ciphertext is calculated as $c' = c * c_a$.\n",
    "- The script submits $c'$ to the oracle for decryption, which results in $2*m$ (the original plaintext multiplied by 2 due to the RSA properties).\n",
    "- The output is divided by 2 to recover the original password as an integer.\n",
    "\n",
    "Converting the Integer Back to a String:\n",
    "\n",
    "- The decrypted integer is converted into a byte string and decoded into human-readable text.\n",
    "- This password is then used to decrypt the final file via OpenSSL.\n",
    "\n",
    "This approach follows a linear execution pattern and is easy to follow but less modular.\n",
    "\n",
    "# Method 2: Function-Based Modular Approach\n",
    "This method was implemented to improve reusability and organization by breaking the decryption attack into separate functions.\n",
    "\n",
    "Function to Retrieve the Blinding Factor:\n",
    "\n",
    "- Connects to the RSA oracle.\n",
    "- Reads the ciphertext from the file.\n",
    "- Requests encryption of 2 to obtain the blinding factor (c_a).\n",
    "\n",
    "Function to Perform the Blinded Decryption:\n",
    "\n",
    "- Sends the blinded ciphertext $(c' = c * c_a)$ to the oracle.\n",
    "- Retrieves $2*m$ and extracts m by dividing by 2.\n",
    "\n",
    "Function to Convert the Integer to a String:\n",
    "\n",
    "- Converts the decrypted integer into a byte sequence and then decodes it into a human-readable password.\n",
    "\n",
    "Execution Process:\n",
    "\n",
    "- The script connects to the oracle, retrieves the necessary values, and decrypts the password using modularized functions.\n",
    "\n",
    "This approach is more structured, reusable, and easier to debug than Method 1"
   ],
   "metadata": {
    "collapsed": false
   },
   "id": "7d204b780c2eb85e"
  },
  {
   "cell_type": "code",
   "execution_count": 8,
   "outputs": [
    {
     "name": "stdout",
     "output_type": "stream",
     "text": [
      "Password: 60f50\n"
     ]
    }
   ],
   "source": [
    "# Method 1: Step‐by‐Step Inline Process\n",
    "\n",
    "from pwn import *\n",
    "\n",
    "# Set log level to suppress unnecessary output from pwntools.\n",
    "context.log_level = 'critical'\n",
    "\n",
    "# --- Stage 1: Connect to the RSA Oracle ---\n",
    "# Connect to the remote RSA oracle service.\n",
    "port = 55608 # this will change for each new instance\n",
    "p = remote(\"titan.picoctf.net\", port)\n",
    "\n",
    "# Wait until the oracle sends a message that includes \"decrypt.\"\n",
    "p.recvuntil(b\"decrypt.\")\n",
    "\n",
    "# --- Stage 2: Read the ciphertext from the file ---\n",
    "# Open the file \"password.enc\" and convert its content to an integer.\n",
    "with open(\"password.enc\") as file:\n",
    "    c = int(file.read())\n",
    "\n",
    "# --- Stage 3: Obtain a blinding factor ---\n",
    "# Choose the encryption option by sending \"E\".\n",
    "p.sendline(b\"E\")\n",
    "# Wait until the oracle prompts for \"keysize):\"\n",
    "p.recvuntil(b\"keysize): \")\n",
    "# Send the keysize value (here, the byte value for 2).\n",
    "p.sendline(b\"\\x02\")\n",
    "# Wait until the output shows \"mod n)\" (part of the modulus output).\n",
    "p.recvuntil(b\"mod n) \")\n",
    "# Read the resulting ciphertext for the number 2.\n",
    "c_a = int(p.recvline())\n",
    "\n",
    "# --- Stage 4: Request the decryption of the blinded ciphertext ---\n",
    "# Now select the decryption option by sending \"D\".\n",
    "p.sendline(b\"D\")\n",
    "# Wait until the oracle prompts with \"decrypt: \"\n",
    "p.recvuntil(b\"decrypt: \")\n",
    "# Compute the blinded ciphertext: c' = c_a * c, and send it.\n",
    "p.sendline(str(c_a * c).encode())\n",
    "# Wait until the oracle prints \"mod n): \" then read its response.\n",
    "p.recvuntil(b\"mod n): \")\n",
    "\n",
    "# The oracle returns 2*m (as a hexadecimal string), so convert it to an integer and divide by 2.\n",
    "password_int = int(p.recvline(), 16) // 2\n",
    "\n",
    "# --- Stage 5: Convert the integer back into a string ---\n",
    "# The conversion uses the length trick (len(str(password_int)) - 7) to determine byte length.\n",
    "password_bytes = password_int.to_bytes(len(str(password_int)) - 7, \"big\")\n",
    "password = password_bytes.decode(\"utf-8\")\n",
    "\n",
    "# The recovered password is used as the key for decrypting secret.enc via OpenSSL.\n",
    "# The expected output (when wrapped in picoCTF{}) is:\n",
    "# picoCTF{su((3ss_(r@ck1ng_r3@_da099d93}\n",
    "print(\"Password:\", password)\n",
    "\n",
    "# Command to run the code in the terminal and retrieve the flag (The flag will be in a new file \"decrypted.txt\"):\n",
    "#       \"openssl enc -aes-256-cbc -d -in secret.enc -out decrypted.txt -k <password>\"\n",
    "\n",
    "# Answer: picoCTF{su((3ss_(r@ck1ng_r3@_da099d93}"
   ],
   "metadata": {
    "collapsed": false,
    "ExecuteTime": {
     "end_time": "2025-03-09T22:43:48.553256100Z",
     "start_time": "2025-03-09T22:43:47.918086900Z"
    }
   },
   "id": "55d2d06ac4419a2a"
  },
  {
   "cell_type": "code",
   "execution_count": 5,
   "outputs": [
    {
     "name": "stdout",
     "output_type": "stream",
     "text": [
      "Password: 92d53\n"
     ]
    }
   ],
   "source": [
    "# Method 2: Function-Based Modular Approach\n",
    "\n",
    "from pwn import *\n",
    "\n",
    "# Function to connect to the RSA oracle and retrieve the blinded ciphertext encryption of 2.\n",
    "def get_blinding_factor(remote_host, port):\n",
    "    p = remote(remote_host, port)\n",
    "    p.recvuntil(b\"decrypt.\")\n",
    "    # Read the ciphertext from file and convert it to an integer.\n",
    "    with open(\"password.enc\") as file:\n",
    "        c = int(file.read())\n",
    "    \n",
    "    # Select the encryption option.\n",
    "    p.sendline(b\"E\")\n",
    "    p.recvuntil(b\"keysize): \")\n",
    "    p.sendline(b\"\\x02\")\n",
    "    p.recvuntil(b\"mod n) \")\n",
    "    # Receive the ciphertext of 2.\n",
    "    c_a = int(p.recvline())\n",
    "    \n",
    "    # Return the remote connection and the two ciphertext values.\n",
    "    return p, c, c_a\n",
    "\n",
    "# Function to perform the blinded decryption.\n",
    "def rsa_oracle_decrypt(p, c, c_a):\n",
    "    # Select the decryption option.\n",
    "    p.sendline(b\"D\")\n",
    "    p.recvuntil(b\"decrypt: \")\n",
    "    # Send the blinded ciphertext: c' = c_a * c.\n",
    "    blinded_ciphertext = c_a * c\n",
    "    p.sendline(str(blinded_ciphertext).encode())\n",
    "    p.recvuntil(b\"mod n): \")\n",
    "    \n",
    "    # The oracle returns 2*m (in hexadecimal), so convert and divide by 2.\n",
    "    decrypted_int = int(p.recvline(), 16) // 2\n",
    "    return decrypted_int\n",
    "\n",
    "# Function to convert the decrypted integer into a string.\n",
    "def int_to_string(decrypted_int):\n",
    "    # Determine an approximate byte length.\n",
    "    byte_length = len(str(decrypted_int)) - 7\n",
    "    return decrypted_int.to_bytes(byte_length, \"big\").decode(\"utf-8\")\n",
    "\n",
    "\n",
    "\n",
    "# --- Stage 1: Connect and retrieve the blinding factor ---\n",
    "remote_host = \"titan.picoctf.net\"\n",
    "port = 61049 # this will change for each new instance \n",
    "p, c, c_a = get_blinding_factor(remote_host, port)\n",
    "\n",
    "# --- Stage 2: Request decryption of the blinded ciphertext ---\n",
    "decrypted_int = rsa_oracle_decrypt(p, c, c_a)\n",
    "\n",
    "# --- Stage 3: Convert decrypted integer to string ---\n",
    "password = int_to_string(decrypted_int)\n",
    "\n",
    "# The recovered password (to be used with OpenSSL) when wrapped yields:\n",
    "# picoCTF{su((3ss_(r@ck1ng_r3@_da099d93} \n",
    "print(\"Password:\", password)\n",
    "    \n",
    "    \n",
    "# Command to run the code in the terminal and retrieve the flag (The flag will be in a new file \"decrypted.txt\"):\n",
    "#       \"openssl enc -aes-256-cbc -d -in secret.enc -out decrypted.txt -k <password>\"\n",
    "# Answer: picoCTF{su((3ss_(r@ck1ng_r3@_da099d93}\n"
   ],
   "metadata": {
    "collapsed": false,
    "ExecuteTime": {
     "end_time": "2025-03-09T22:37:20.501640100Z",
     "start_time": "2025-03-09T22:37:19.516088300Z"
    }
   },
   "id": "e970714e7342c29d"
  },
  {
   "cell_type": "markdown",
   "source": [
    "# Part 2. Theory"
   ],
   "metadata": {
    "collapsed": false
   },
   "id": "3aceef25ad6cc5db"
  },
  {
   "cell_type": "markdown",
   "source": [
    "# 2.1"
   ],
   "metadata": {
    "collapsed": false
   },
   "id": "dd04c1f6606dce29"
  },
  {
   "cell_type": "markdown",
   "source": [
    "**If an encryption function $e_K$ is identical to the decryption function $d_K$, then the key $K$ is said to be an involutor key. Find all the involutory keys in the Shift Cipher**"
   ],
   "metadata": {
    "collapsed": false
   },
   "id": "f2719dfc1a51afa8"
  },
  {
   "cell_type": "markdown",
   "source": [
    "1. Understanding the Shift Cipher\n",
    "\n",
    "- Each letter in the alphabet is replaced by another letter shifted by  𝐾 positions.\n",
    "\n",
    "Mathematical formulas:\n",
    "\n",
    "- Encryption \n",
    "    - $C = (P+K) \\text{ mod }26$\n",
    "- Decryption \n",
    "    - $P = (C−K) \\text{ mod } 26$\n",
    "\n",
    "2. Defining an Involutory Key\n",
    "\n",
    "A key is involutory if encrypting and decrypting with the same key results in the original text. \n",
    "\n",
    "- Encryption function: $e_k(e_k(P))= P$\n",
    " \n",
    "Substituting it into the shift cipher formula:\n",
    "\n",
    "- $(P+K) + K ≡ P \\text{ mod }  26$ ->  $P + 2K ≡ P \\text{ mod }  26$ -> $2K ≡ 0 \\text{ mod } 26$\n",
    "\n",
    "3. Solving the Equation $2K ≡ 0 \\text{ mod } 26$\n",
    "\n",
    "This means that 2K must be a multiple of 26:\n",
    "\n",
    "- $2K = 26m$ -> $K=13m$ -> $K=13$\n",
    "\n",
    "4. Verification"
   ],
   "metadata": {
    "collapsed": false
   },
   "id": "68779f504941ec45"
  },
  {
   "cell_type": "code",
   "execution_count": 41,
   "outputs": [
    {
     "data": {
      "text/plain": "   Original Letter Shifted Letter\n0                A              N\n1                B              O\n2                C              P\n3                D              Q\n4                E              R\n5                F              S\n6                G              T\n7                H              U\n8                I              V\n9                J              W\n10               K              X\n11               L              Y\n12               M              Z\n13               N              A\n14               O              B\n15               P              C\n16               Q              D\n17               R              E\n18               S              F\n19               T              G\n20               U              H\n21               V              I\n22               W              J\n23               X              K\n24               Y              L\n25               Z              M",
      "text/html": "<div>\n<style scoped>\n    .dataframe tbody tr th:only-of-type {\n        vertical-align: middle;\n    }\n\n    .dataframe tbody tr th {\n        vertical-align: top;\n    }\n\n    .dataframe thead th {\n        text-align: right;\n    }\n</style>\n<table border=\"1\" class=\"dataframe\">\n  <thead>\n    <tr style=\"text-align: right;\">\n      <th></th>\n      <th>Original Letter</th>\n      <th>Shifted Letter</th>\n    </tr>\n  </thead>\n  <tbody>\n    <tr>\n      <th>0</th>\n      <td>A</td>\n      <td>N</td>\n    </tr>\n    <tr>\n      <th>1</th>\n      <td>B</td>\n      <td>O</td>\n    </tr>\n    <tr>\n      <th>2</th>\n      <td>C</td>\n      <td>P</td>\n    </tr>\n    <tr>\n      <th>3</th>\n      <td>D</td>\n      <td>Q</td>\n    </tr>\n    <tr>\n      <th>4</th>\n      <td>E</td>\n      <td>R</td>\n    </tr>\n    <tr>\n      <th>5</th>\n      <td>F</td>\n      <td>S</td>\n    </tr>\n    <tr>\n      <th>6</th>\n      <td>G</td>\n      <td>T</td>\n    </tr>\n    <tr>\n      <th>7</th>\n      <td>H</td>\n      <td>U</td>\n    </tr>\n    <tr>\n      <th>8</th>\n      <td>I</td>\n      <td>V</td>\n    </tr>\n    <tr>\n      <th>9</th>\n      <td>J</td>\n      <td>W</td>\n    </tr>\n    <tr>\n      <th>10</th>\n      <td>K</td>\n      <td>X</td>\n    </tr>\n    <tr>\n      <th>11</th>\n      <td>L</td>\n      <td>Y</td>\n    </tr>\n    <tr>\n      <th>12</th>\n      <td>M</td>\n      <td>Z</td>\n    </tr>\n    <tr>\n      <th>13</th>\n      <td>N</td>\n      <td>A</td>\n    </tr>\n    <tr>\n      <th>14</th>\n      <td>O</td>\n      <td>B</td>\n    </tr>\n    <tr>\n      <th>15</th>\n      <td>P</td>\n      <td>C</td>\n    </tr>\n    <tr>\n      <th>16</th>\n      <td>Q</td>\n      <td>D</td>\n    </tr>\n    <tr>\n      <th>17</th>\n      <td>R</td>\n      <td>E</td>\n    </tr>\n    <tr>\n      <th>18</th>\n      <td>S</td>\n      <td>F</td>\n    </tr>\n    <tr>\n      <th>19</th>\n      <td>T</td>\n      <td>G</td>\n    </tr>\n    <tr>\n      <th>20</th>\n      <td>U</td>\n      <td>H</td>\n    </tr>\n    <tr>\n      <th>21</th>\n      <td>V</td>\n      <td>I</td>\n    </tr>\n    <tr>\n      <th>22</th>\n      <td>W</td>\n      <td>J</td>\n    </tr>\n    <tr>\n      <th>23</th>\n      <td>X</td>\n      <td>K</td>\n    </tr>\n    <tr>\n      <th>24</th>\n      <td>Y</td>\n      <td>L</td>\n    </tr>\n    <tr>\n      <th>25</th>\n      <td>Z</td>\n      <td>M</td>\n    </tr>\n  </tbody>\n</table>\n</div>"
     },
     "execution_count": 41,
     "metadata": {},
     "output_type": "execute_result"
    }
   ],
   "source": [
    "\n",
    "import string\n",
    "import pandas as pd\n",
    "\n",
    "# Generate the Shift Cipher (K=13) conversion table\n",
    "alphabet = string.ascii_uppercase  # Uppercase alphabet\n",
    "shifted_alphabet = {char: alphabet[(i + 13) % 26] for i, char in enumerate(alphabet)}\n",
    "\n",
    "# Create a DataFrame to visualize the table\n",
    "df_shift_table = pd.DataFrame(list(shifted_alphabet.items()), columns=[\"Original Letter\", \"Shifted Letter\"])\n",
    "\n",
    "# Display the table\n",
    "df_shift_table"
   ],
   "metadata": {
    "collapsed": false,
    "ExecuteTime": {
     "end_time": "2025-03-07T13:44:59.640245Z",
     "start_time": "2025-03-07T13:44:59.623845500Z"
    }
   },
   "id": "ba713b6fc97153b9"
  },
  {
   "cell_type": "code",
   "execution_count": 42,
   "outputs": [
    {
     "name": "stdout",
     "output_type": "stream",
     "text": [
      "=== ENCRYPTION ===\n",
      "🔹 Original text: HELLO WORLD\n",
      "🔹 Shift key: 13\n",
      "\n",
      "Letter: H | Original index: 7 | New index: 20 | Encrypted letter: U\n",
      "Letter: E | Original index: 4 | New index: 17 | Encrypted letter: R\n",
      "Letter: L | Original index: 11 | New index: 24 | Encrypted letter: Y\n",
      "Letter: L | Original index: 11 | New index: 24 | Encrypted letter: Y\n",
      "Letter: O | Original index: 14 | New index: 1 | Encrypted letter: B\n",
      "Letter: W | Original index: 22 | New index: 9 | Encrypted letter: J\n",
      "Letter: O | Original index: 14 | New index: 1 | Encrypted letter: B\n",
      "Letter: R | Original index: 17 | New index: 4 | Encrypted letter: E\n",
      "Letter: L | Original index: 11 | New index: 24 | Encrypted letter: Y\n",
      "Letter: D | Original index: 3 | New index: 16 | Encrypted letter: Q\n",
      "\n",
      "✅ Encrypted text: URYYB JBEYQ\n",
      "\n",
      "=== DECRYPTION ===\n",
      "🔹 Encrypted text: URYYB JBEYQ\n",
      "🔹 Shift key: 13\n",
      "\n",
      "Letter: U | Original index: 20 | New index: 7 | Decrypted letter: H\n",
      "Letter: R | Original index: 17 | New index: 4 | Decrypted letter: E\n",
      "Letter: Y | Original index: 24 | New index: 11 | Decrypted letter: L\n",
      "Letter: Y | Original index: 24 | New index: 11 | Decrypted letter: L\n",
      "Letter: B | Original index: 1 | New index: 14 | Decrypted letter: O\n",
      "Letter: J | Original index: 9 | New index: 22 | Decrypted letter: W\n",
      "Letter: B | Original index: 1 | New index: 14 | Decrypted letter: O\n",
      "Letter: E | Original index: 4 | New index: 17 | Decrypted letter: R\n",
      "Letter: Y | Original index: 24 | New index: 11 | Decrypted letter: L\n",
      "Letter: Q | Original index: 16 | New index: 3 | Decrypted letter: D\n",
      "\n",
      "✅ Decrypted text: HELLO WORLD\n"
     ]
    }
   ],
   "source": [
    "import string\n",
    "\n",
    "def shift_cipher_encrypt(text, key):\n",
    "    \"\"\"\n",
    "    Encrypts a text using the Shift Cipher with the given 'key'.\n",
    "    \"\"\"\n",
    "    alphabet = string.ascii_uppercase  # Uppercase alphabet\n",
    "    encrypted_text = \"\"\n",
    "    \n",
    "    print(f\"🔹 Original text: {text}\")\n",
    "    print(f\"🔹 Shift key: {key}\\n\")\n",
    "\n",
    "    for char in text:\n",
    "        if char in alphabet:\n",
    "            original_index = alphabet.index(char)\n",
    "            new_index = (original_index + key) % 26\n",
    "            encrypted_char = alphabet[new_index]\n",
    "\n",
    "            print(f\"Letter: {char} | Original index: {original_index} | New index: {new_index} | Encrypted letter: {encrypted_char}\")\n",
    "\n",
    "            encrypted_text += encrypted_char\n",
    "        else:\n",
    "            encrypted_text += char  # Keep non-alphabetic characters unchanged\n",
    "\n",
    "    print(f\"\\n✅ Encrypted text: {encrypted_text}\\n\")\n",
    "    return encrypted_text\n",
    "\n",
    "\n",
    "def shift_cipher_decrypt(text, key):\n",
    "    \"\"\"\n",
    "    Decrypts a text that was encrypted with the Shift Cipher using the same 'key'.\n",
    "    \"\"\"\n",
    "    alphabet = string.ascii_uppercase  # Uppercase alphabet\n",
    "    decrypted_text = \"\"\n",
    "\n",
    "    print(f\"🔹 Encrypted text: {text}\")\n",
    "    print(f\"🔹 Shift key: {key}\\n\")\n",
    "\n",
    "    for char in text:\n",
    "        if char in alphabet:\n",
    "            original_index = alphabet.index(char)\n",
    "            new_index = (original_index - key) % 26\n",
    "            decrypted_char = alphabet[new_index]\n",
    "\n",
    "            print(f\"Letter: {char} | Original index: {original_index} | New index: {new_index} | Decrypted letter: {decrypted_char}\")\n",
    "\n",
    "            decrypted_text += decrypted_char\n",
    "        else:\n",
    "            decrypted_text += char  # Keep non-alphabetic characters unchanged\n",
    "\n",
    "    print(f\"\\n✅ Decrypted text: {decrypted_text}\\n\")\n",
    "    return decrypted_text\n",
    "\n",
    "\n",
    "# Test with the involutory key K=13\n",
    "sample_text = \"HELLO WORLD\"\n",
    "\n",
    "print(\"=== ENCRYPTION ===\")\n",
    "ciphertext = shift_cipher_encrypt(sample_text, 13)\n",
    "\n",
    "print(\"=== DECRYPTION ===\")\n",
    "decrypted_text = shift_cipher_decrypt(ciphertext, 13)\n"
   ],
   "metadata": {
    "collapsed": false,
    "ExecuteTime": {
     "end_time": "2025-03-07T13:44:59.733444800Z",
     "start_time": "2025-03-07T13:44:59.639243900Z"
    }
   },
   "id": "f618164f16f1a399"
  },
  {
   "cell_type": "markdown",
   "source": [
    "# 2.2"
   ],
   "metadata": {
    "collapsed": false
   },
   "id": "341f93bc5527462e"
  },
  {
   "cell_type": "markdown",
   "source": [
    "**2. Suppose that π is the following permutation of $x \\in \\{1, 2, 3, 4, 5, 6, 7, 8\\}: \\pi(x) = \\{4, 1, 6, 2, 7, 3, 8, 5\\}$.**\n",
    "\n",
    "- Compute $\\pi^{-1}$\n",
    "- Decrypt the following ciphertext, for a Permutation Cipher with m = 8, which was encrypted using the key $\\pi$: TGEEMNELNNTDROEOAAHDOETCSHAEIRLM\n",
    "\n",
    "1. Compute $𝜋^{-1}$ (Inverse Permutation)\n",
    "\n",
    "The inverse permutation $𝜋^{-1}$ finds where each original position was mapped in 𝜋(x).\n",
    "\n",
    "Given:  $$\\pi(x) = \\{4, 1, 6, 2, 7, 3, 8, 5\\}$$\n",
    "\n",
    "- The 1st element moved to position 4.\n",
    "- The 2nd element moved to position 1.\n",
    "- The 3rd element moved to position 6.\n",
    "- The 4th element moved to position 2.\n",
    "- The 5th element moved to position 7.\n",
    "- The 6th element moved to position 3.\n",
    "- The 7th element moved to position 8.\n",
    "- The 8th element moved to position 5."
   ],
   "metadata": {
    "collapsed": false
   },
   "id": "6840149c42e6d4b6"
  },
  {
   "cell_type": "code",
   "execution_count": 43,
   "outputs": [
    {
     "data": {
      "text/plain": "[2, 4, 6, 1, 8, 3, 5, 7]"
     },
     "execution_count": 43,
     "metadata": {},
     "output_type": "execute_result"
    }
   ],
   "source": [
    "def compute_inverse_permutation(permutation):\n",
    "    \"\"\"\n",
    "    Given a permutation π(x), compute its inverse π^(-1).\n",
    "    \"\"\"\n",
    "    inverse_permutation = [0] * len(permutation)\n",
    "\n",
    "    for index, value in enumerate(permutation):\n",
    "        inverse_permutation[value - 1] = index + 1  # Adjust for 1-based index\n",
    "\n",
    "    return inverse_permutation\n",
    "\n",
    "# Given permutation π(x)\n",
    "pi_x = [4, 1, 6, 2, 7, 3, 8, 5]\n",
    "\n",
    "# Compute π^(-1)\n",
    "pi_inverse = compute_inverse_permutation(pi_x)\n",
    "\n",
    "# Display the inverse permutation\n",
    "pi_inverse\n"
   ],
   "metadata": {
    "collapsed": false,
    "ExecuteTime": {
     "end_time": "2025-03-07T13:44:59.735445100Z",
     "start_time": "2025-03-07T13:44:59.657789700Z"
    }
   },
   "id": "9ef666e02ce47f0c"
  },
  {
   "cell_type": "markdown",
   "source": [
    "2. Compute $𝜋^{-1}$ (Inverse Permutation)\n",
    "\n",
    "$$\\pi^{-1}(x) = \\{2, 4, 6, 1, 8, 3, 5, 7\\}$$\n",
    "\n",
    "- The 1st position in the original text was in the 2nd position in the encrypted text.\n",
    "- The 2nd position in the original text was in the 4th position in the encrypted text.\n",
    "- The 3rd position in the original text was in the 6th position in the encrypted text.\n",
    "- The 4th position in the original text was in the 1st position in the encrypted text.\n",
    "- The 5th position in the original text was in the 8th position in the encrypted text.\n",
    "- The 6th position in the original text was in the 3rd position in the encrypted text.\n",
    "- The 7th position in the original text was in the 5th position in the encrypted text.\n",
    "- The 8th position in the original text was in the 7th position in the encrypted text."
   ],
   "metadata": {
    "collapsed": false
   },
   "id": "9df4cea92b81cbb1"
  },
  {
   "cell_type": "markdown",
   "source": [
    "2. Decrypt the following ciphertext, for a Permutation Cipher with m = 8, which was encrypted using the key $\\pi$: TGEEMNELNNTDROEOAAHDOETCSHAEIRLM"
   ],
   "metadata": {
    "collapsed": false
   },
   "id": "675d5934c0e6de99"
  },
  {
   "cell_type": "code",
   "execution_count": 44,
   "outputs": [
    {
     "name": "stdout",
     "output_type": "stream",
     "text": [
      "Permutation Table:\n",
      " Original Position  Permutation π(x)\n",
      "                 1                 4\n",
      "                 2                 1\n",
      "                 3                 6\n",
      "                 4                 2\n",
      "                 5                 7\n",
      "                 6                 3\n",
      "                 7                 8\n",
      "                 8                 5\n",
      "\n",
      "Decryption Table for Block 1:\n",
      " Original Position Encrypted Letter  Permutation π(x) Decrypted Letter\n",
      "                 1                T                 4                G\n",
      "                 2                G                 1                E\n",
      "                 3                E                 6                N\n",
      "                 4                E                 2                T\n",
      "                 5                M                 7                L\n",
      "                 6                N                 3                E\n",
      "                 7                E                 8                M\n",
      "                 8                L                 5                E\n",
      "\n",
      "Decryption Table for Block 2:\n",
      " Original Position Encrypted Letter  Permutation π(x) Decrypted Letter\n",
      "                 1                N                 4                N\n",
      "                 2                N                 1                D\n",
      "                 3                T                 6                O\n",
      "                 4                D                 2                N\n",
      "                 5                R                 7                O\n",
      "                 6                O                 3                T\n",
      "                 7                E                 8                R\n",
      "                 8                O                 5                E\n",
      "\n",
      "Decryption Table for Block 3:\n",
      " Original Position Encrypted Letter  Permutation π(x) Decrypted Letter\n",
      "                 1                A                 4                A\n",
      "                 2                A                 1                D\n",
      "                 3                H                 6                E\n",
      "                 4                D                 2                A\n",
      "                 5                O                 7                C\n",
      "                 6                E                 3                H\n",
      "                 7                T                 8                O\n",
      "                 8                C                 5                T\n",
      "\n",
      "Decryption Table for Block 4:\n",
      " Original Position Encrypted Letter  Permutation π(x) Decrypted Letter\n",
      "                 1                S                 4                H\n",
      "                 2                H                 1                E\n",
      "                 3                A                 6                R\n",
      "                 4                E                 2                S\n",
      "                 5                I                 7                M\n",
      "                 6                R                 3                A\n",
      "                 7                L                 8                I\n",
      "                 8                M                 5                L\n",
      "\n",
      "Encrypted Message: TGEEMNELNNTDROEOAAHDOETCSHAEIRLM\n",
      "Decrypted Message: GENTLEMENDONOTREADEACHOTHERSMAIL\n",
      "Decrypted Message (with spaces): GENTLEME NDONOTRE ADEACHOT HERSMAIL\n",
      "Final Message: GENTLEMEN DO NOT READ EACH OTHERS MAIL\n"
     ]
    }
   ],
   "source": [
    "import pandas as pd\n",
    "\n",
    "def apply_permutation(text, pi):\n",
    "    m = len(pi)  # Block size\n",
    "\n",
    "    # Split the text into blocks of size m\n",
    "    blocks = [text[i:i+m] for i in range(0, len(text), m)]\n",
    "    permuted_blocks = []\n",
    "\n",
    "    # Apply the permutation to each block\n",
    "    for block in blocks:\n",
    "        permuted_block = [''] * m\n",
    "        for i, char in enumerate(block):\n",
    "            permuted_block[pi[i] - 1] = char  # Apply π(x)\n",
    "        permuted_blocks.append(''.join(permuted_block))\n",
    "\n",
    "    # Return the fully permuted text\n",
    "    return ''.join(permuted_blocks)\n",
    "\n",
    "# Encrypted text\n",
    "ciphertext = \"TGEEMNELNNTDROEOAAHDOETCSHAEIRLM\"\n",
    "# Given permutation π(x)\n",
    "pi = [4, 1, 6, 2, 7, 3, 8, 5]\n",
    "\n",
    "decrypted_text = apply_permutation(ciphertext, pi)\n",
    "\n",
    "# Split the decrypted text into blocks of size m\n",
    "blocks = [ciphertext[i:i+len(pi)] for i in range(0, len(ciphertext), len(pi))]\n",
    "decrypted_blocks = [decrypted_text[i:i+len(pi)] for i in range(0, len(decrypted_text), len(pi))]\n",
    "\n",
    "# Create a DataFrame for each block\n",
    "dfs = []\n",
    "for i in range(len(blocks)):\n",
    "    data = {\n",
    "        \"Original Position\": list(range(1, len(pi) + 1)),\n",
    "        \"Encrypted Letter\": list(blocks[i]),\n",
    "        \"Permutation π(x)\": pi,\n",
    "        \"Decrypted Letter\": list(decrypted_blocks[i])\n",
    "    }\n",
    "    df = pd.DataFrame(data)\n",
    "    dfs.append(df)\n",
    "\n",
    "# Print the permutation table\n",
    "print(\"Permutation Table:\")\n",
    "df_permutation = pd.DataFrame({\n",
    "    \"Original Position\": list(range(1, len(pi) + 1)),\n",
    "    \"Permutation π(x)\": pi\n",
    "})\n",
    "print(df_permutation.to_string(index=False))\n",
    "print()\n",
    "\n",
    "# Print each block's table\n",
    "for i, df in enumerate(dfs):\n",
    "    print(f\"Decryption Table for Block {i+1}:\")\n",
    "    print(df.to_string(index=False))\n",
    "    print()\n",
    "\n",
    "# Print the final encrypted and decrypted messages\n",
    "print(\"Encrypted Message:\", ciphertext)\n",
    "print(\"Decrypted Message:\", decrypted_text)\n",
    "print(\"Decrypted Message (with spaces):\", ' '.join(decrypted_blocks))\n",
    "print('Final Message: GENTLEMEN DO NOT READ EACH OTHERS MAIL')\n"
   ],
   "metadata": {
    "collapsed": false,
    "ExecuteTime": {
     "end_time": "2025-03-07T13:44:59.736442600Z",
     "start_time": "2025-03-07T13:44:59.673918300Z"
    }
   },
   "id": "d24303ad5c549b36"
  },
  {
   "cell_type": "markdown",
   "source": [
    "# 2.3"
   ],
   "metadata": {
    "collapsed": false
   },
   "id": "dee74dacbca6364e"
  },
  {
   "cell_type": "markdown",
   "source": [
    "# Substitution"
   ],
   "metadata": {
    "collapsed": false
   },
   "id": "b10190405ecdd79f"
  },
  {
   "cell_type": "code",
   "execution_count": 19,
   "outputs": [],
   "source": [
    "# The ciphertext is provided as a continuous string.\n",
    "cipher_sub = 'EMGLOSUDCGDNCUSWYSFHNSFCYKDPUMLWGYICOXYSIPJCKQPKUGKMGOLICGINCGACKSNISACYKZSCKXECJCKSHYSXCGOIDPKZCNKSHICGIWYGKKGKGOLDSILKGOIUSIGLEDSPWZUGFZCCNDGYYSFUSZCNXEOJNCGYEOWEUPXEZGACGNFGLKNSACIGOIYCKXCJUCIUZCFZCCNDGYYSFEUEKUZCSOCFZCCNCIACZEJNCSHFZEJZEGMXCYHCJUMGKUCY'"
   ],
   "metadata": {
    "collapsed": false,
    "ExecuteTime": {
     "end_time": "2025-03-10T03:53:24.902195400Z",
     "start_time": "2025-03-10T03:53:24.889676500Z"
    }
   },
   "id": "b970c8bfed814fb5"
  },
  {
   "cell_type": "code",
   "execution_count": 20,
   "outputs": [
    {
     "name": "stdout",
     "output_type": "stream",
     "text": [
      "\n",
      " Letter Frequency:\n",
      "C: 37\n",
      "G: 24\n",
      "S: 20\n",
      "K: 18\n",
      "Y: 15\n",
      "I: 15\n",
      "U: 14\n",
      "N: 13\n",
      "Z: 13\n",
      "E: 12\n",
      "O: 10\n",
      "F: 9\n",
      "D: 8\n",
      "L: 7\n",
      "X: 7\n",
      "J: 7\n",
      "P: 6\n",
      "M: 5\n",
      "W: 5\n",
      "H: 5\n",
      "A: 5\n",
      "Q: 1\n",
      "\n",
      " Bigram Frequency:\n",
      "CG: 7\n",
      "ZC: 7\n",
      "NC: 5\n",
      "YS: 5\n",
      "CK: 5\n",
      "GO: 5\n",
      "AC: 5\n",
      "CN: 5\n",
      "SF: 4\n",
      "CY: 4\n",
      "GY: 4\n",
      "GK: 4\n",
      "FZ: 4\n",
      "MG: 3\n",
      "GL: 3\n",
      "\n",
      " Trigram Frequency:\n",
      "YSF: 3\n",
      "GOI: 3\n",
      "FZC: 3\n",
      "ZCC: 3\n",
      "CCN: 3\n",
      "CYK: 2\n",
      "JCK: 2\n",
      "GOL: 2\n",
      "ICG: 2\n",
      "CGI: 2\n",
      "NCG: 2\n",
      "GAC: 2\n",
      "CKS: 2\n",
      "SAC: 2\n",
      "CKX: 2\n"
     ]
    }
   ],
   "source": [
    "from collections import Counter\n",
    "import re\n",
    "\n",
    "# Clean the ciphertext by removing any characters that are not uppercase letters.\n",
    "ciphertext = re.sub(r'[^A-Z]', '', cipher_sub)  # Only uppercase letters remain\n",
    "\n",
    "# Frequency analysis for single letters.\n",
    "letter_counts = Counter(ciphertext)\n",
    "# Sort letters by frequency in descending order.\n",
    "sorted_letters = sorted(letter_counts.items(), key=lambda x: x[1], reverse=True)\n",
    "\n",
    "print(\"\\n Letter Frequency:\")\n",
    "for letter, freq in sorted_letters:\n",
    "    print(f\"{letter}: {freq}\")\n",
    "\n",
    "# Frequency analysis for bigrams (pairs of letters).\n",
    "bigrams = [ciphertext[i:i+2] for i in range(len(ciphertext)-1)]\n",
    "bigram_counts = Counter(bigrams)\n",
    "# Sort bigrams by frequency.\n",
    "sorted_bigrams = sorted(bigram_counts.items(), key=lambda x: x[1], reverse=True)\n",
    "\n",
    "print(\"\\n Bigram Frequency:\")\n",
    "# Display the top 15 most frequent bigrams.\n",
    "for bigram, freq in sorted_bigrams[:15]:\n",
    "    print(f\"{bigram}: {freq}\")\n",
    "\n",
    "# Frequency analysis for trigrams (triplets of letters).\n",
    "trigrams = [ciphertext[i:i+3] for i in range(len(ciphertext)-2)]\n",
    "trigram_counts = Counter(trigrams)\n",
    "# Sort trigrams by frequency.\n",
    "sorted_trigrams = sorted(trigram_counts.items(), key=lambda x: x[1], reverse=True)\n",
    "\n",
    "print(\"\\n Trigram Frequency:\")\n",
    "# Display the top 15 most frequent trigrams.\n",
    "for trigram, freq in sorted_trigrams[:15]:\n",
    "    print(f\"{trigram}: {freq}\")"
   ],
   "metadata": {
    "collapsed": false,
    "ExecuteTime": {
     "end_time": "2025-03-10T03:53:36.102834800Z",
     "start_time": "2025-03-10T03:53:36.097534300Z"
    }
   },
   "id": "c78c45f07c8a8ff9"
  },
  {
   "cell_type": "code",
   "execution_count": 21,
   "outputs": [
    {
     "name": "stdout",
     "output_type": "stream",
     "text": [
      "Decoded Text with Initial Mapping:\n",
      "EMGLOSUDCGDNCUSWYSFHNSFCYKDPUMLWGYICOXYSIPJCKQPKUGKMGOLICGINCGACKSNISACYKZSCKXECJCKSHYSXCGOIDPKZCNKSHICGIWYGKKGKGOLDSILKGOIUSIGLEDSPWZUGFZCCNDGYYSFUSZCNXEOJNCGYEOWEUPXEZGACGNFGLKNSACIGOIYCKXCJUCIUZCFZCCNDGYYSFEUEKUZCSOCFZCCNCIACZEJNCSHFZEJZEGMXCYHCJUMGKUCY\n",
      "______T_E___ET_________E____T______E_______E____T_______E___E__E______E__H_E___E_E______E______HE_____E____________________T_________HT__HEE_______T_HE______E______T___H__E_________E_____E__E_TE_THE_HEE________T__THE__E_HEE_E__EH___E___H__H____E__E_T___TE_\n"
     ]
    }
   ],
   "source": [
    "# Initial substitution mapping based on frequency analysis:\n",
    "# The mapping assigns cipher letters to probable plaintext letters.\n",
    "substitution_mapping = {\n",
    "    'C': 'E',\n",
    "    'Z': 'H',\n",
    "    'U': 'T'\n",
    "}\n",
    "\n",
    "# Define a function to apply a given substitution mapping to the text.\n",
    "def apply_substitution(text, mapping):\n",
    "    # For each character, replace it with the corresponding mapped letter,\n",
    "    # or use an underscore if no mapping exists.\n",
    "    return ''.join(mapping.get(char, '_') for char in text)\n",
    "\n",
    "# Apply the initial mapping and display the result.\n",
    "decoded_text = apply_substitution(ciphertext, substitution_mapping)\n",
    "print(\"Decoded Text with Initial Mapping:\")\n",
    "print(ciphertext)\n",
    "print(decoded_text)"
   ],
   "metadata": {
    "collapsed": false,
    "ExecuteTime": {
     "end_time": "2025-03-10T03:53:44.706975900Z",
     "start_time": "2025-03-10T03:53:44.699144100Z"
    }
   },
   "id": "4cc0c3729dbf17e6"
  },
  {
   "cell_type": "code",
   "execution_count": 22,
   "outputs": [
    {
     "name": "stdout",
     "output_type": "stream",
     "text": [
      "FZC: 3\n",
      "UZC: 2\n",
      "KZC: 1\n",
      "SZC: 1\n"
     ]
    }
   ],
   "source": [
    "# Examine trigrams to gain more insight.\n",
    "# For each trigram, if the second character is 'Z' and the third is 'C', print the trigram and its frequency.\n",
    "for triple, freq in sorted_trigrams:\n",
    "    if triple[2] == 'C' and triple[1] == 'Z':\n",
    "        print(f\"{triple}: {freq}\")"
   ],
   "metadata": {
    "collapsed": false,
    "ExecuteTime": {
     "end_time": "2025-03-10T03:53:55.539928Z",
     "start_time": "2025-03-10T03:53:55.529101300Z"
    }
   },
   "id": "3f6234f456e767db"
  },
  {
   "cell_type": "code",
   "execution_count": 23,
   "outputs": [
    {
     "name": "stdout",
     "output_type": "stream",
     "text": [
      "FZCCN\n",
      "FZCCN\n",
      "FZCCN\n",
      "FZEJZ\n",
      "FZCC\n",
      "FZCC\n",
      "FZCC\n",
      "FZEJ\n"
     ]
    }
   ],
   "source": [
    "# Look for sequences that start with 'FZ' to gather more context.\n",
    "for i in range(len(ciphertext) - 3):\n",
    "    if ciphertext[i:i + 2] == 'FZ':\n",
    "        print(ciphertext[i:i + 5])\n",
    "\n",
    "# Also, look at 4-letter sequences starting with 'FZ'.\n",
    "for i in range(len(ciphertext) - 3):\n",
    "    if ciphertext[i:i + 2] == 'FZ':\n",
    "        print(ciphertext[i:i + 4])"
   ],
   "metadata": {
    "collapsed": false,
    "ExecuteTime": {
     "end_time": "2025-03-10T03:54:01.483514Z",
     "start_time": "2025-03-10T03:54:01.472657900Z"
    }
   },
   "id": "c9b589f2a497575"
  },
  {
   "cell_type": "code",
   "execution_count": 24,
   "outputs": [
    {
     "name": "stdout",
     "output_type": "stream",
     "text": [
      "UZC\n",
      "UZC\n",
      "UZCF\n",
      "UZCS\n"
     ]
    }
   ],
   "source": [
    "# Similarly, check for sequences starting with 'UZ'.\n",
    "for i in range(len(ciphertext) - 3):\n",
    "    if ciphertext[i:i + 2] == 'UZ':\n",
    "        print(ciphertext[i:i + 3])\n",
    "for i in range(len(ciphertext) - 3):\n",
    "    if ciphertext[i:i + 2] == 'UZ':\n",
    "        print(ciphertext[i:i + 4])"
   ],
   "metadata": {
    "collapsed": false,
    "ExecuteTime": {
     "end_time": "2025-03-10T03:54:14.877139400Z",
     "start_time": "2025-03-10T03:54:14.866241300Z"
    }
   },
   "id": "4e9c7e91a23ab695"
  },
  {
   "cell_type": "code",
   "execution_count": 25,
   "outputs": [
    {
     "name": "stdout",
     "output_type": "stream",
     "text": [
      "Decoded Text with Updated Mapping (Step 1):\n",
      "EMGLOSUDCGDNCUSWYSFHNSFCYKDPUMLWGYICOXYSIPJCKQPKUGKMGOLICGINCGACKSNISACYKZSCKXECJCKSHYSXCGOIDPKZCNKSHICGIWYGKKGKGOLDSILKGOIUSIGLEDSPWZUGFZCCNDGYYSFUSZCNXEOJNCGYEOWEUPXEZGACGNFGLKNSACIGOIYCKXCJUCIUZCFZCCNDGYYSFEUEKUZCSOCFZCCNCIACZEJNCSHFZEJZEGMXCYHCJUMGKUCY\n",
      "__A_N_T_EA_LET____W_L_WE____T___A_DEN___D__E____TA__AN_DEADLEA_E__LD__E__H_E___E_E______EAND___HEL___DEAD__A__A_AN___D__ANDT_DA______HTAWHEEL_A___WT_HEL__N_LEA__N__T___HA_EALWA__L__EDAND_E__E_TEDTHEWHEEL_A___W_T__THE_NEWHEELED_EH__LE__WH__H_A__E__E_T_A_TE_\n"
     ]
    }
   ],
   "source": [
    "# Update the substitution mapping with additional inferred letter mappings.\n",
    "substitution_mapping = {\n",
    "    'C': 'E',\n",
    "    'Z': 'H',\n",
    "    'U': 'T',\n",
    "    'F': 'W',\n",
    "    'N': 'L',\n",
    "    'G': 'A',\n",
    "    'O': 'N',\n",
    "    'I': 'D'\n",
    "}\n",
    "\n",
    "# Apply the updated mapping and display the result.\n",
    "decoded_text = apply_substitution(ciphertext, substitution_mapping)\n",
    "print(\"Decoded Text with Updated Mapping (Step 1):\")\n",
    "print(ciphertext)\n",
    "print(decoded_text)"
   ],
   "metadata": {
    "collapsed": false,
    "ExecuteTime": {
     "end_time": "2025-03-10T03:54:22.288266800Z",
     "start_time": "2025-03-10T03:54:22.278728400Z"
    }
   },
   "id": "739a4e8f428d80aa"
  },
  {
   "cell_type": "code",
   "execution_count": 26,
   "outputs": [
    {
     "name": "stdout",
     "output_type": "stream",
     "text": [
      "Decoded Text with Updated Mapping (Step 2):\n",
      "EMGLOSUDCGDNCUSWYSFHNSFCYKDPUMLWGYICOXYSIPJCKQPKUGKMGOLICGINCGACKSNISACYKZSCKXECJCKSHYSXCGOIDPKZCNKSHICGIWYGKKGKGOLDSILKGOIUSIGLEDSPWZUGFZCCNDGYYSFUSZCNXEOJNCGYEOWEUPXEZGACGNFGLKNSACIGOIYCKXCJUCIUZCFZCCNDGYYSFEUEKUZCSOCFZCCNCIACZEJNCSHFZEJZEGMXCYHCJUMGKUCY\n",
      "__A_NOTBEABLETO_ROW_LOWER_B_T___ARDEN_ROD__E____TA__AN_DEADLEA_E_OLDO_ER_HOE___E_E_O_RO_EANDB__HEL_O_DEAD_RA__A_AN_BOD__ANDTODA__BO__HTAWHEELBARROWTOHEL__N_LEAR_N__T___HA_EALWA__LO_EDANDRE__E_TEDTHEWHEELBARROW_T__THEONEWHEELED_EH__LEO_WH__H_A__ER_E_T_A_TER\n"
     ]
    }
   ],
   "source": [
    "# Further refine the mapping by adding more guessed substitutions based on frequency and context.\n",
    "substitution_mapping = {\n",
    "    'C': 'E',\n",
    "    'Z': 'H',\n",
    "    'U': 'T',\n",
    "    'F': 'W',\n",
    "    'N': 'L',\n",
    "    'G': 'A',\n",
    "    'O': 'N',\n",
    "    'I': 'D',\n",
    "    'S': 'O',\n",
    "    'D': 'B',\n",
    "    'Y': 'R',\n",
    "}\n",
    "\n",
    "# Apply the refined mapping.\n",
    "decoded_text = apply_substitution(ciphertext, substitution_mapping)\n",
    "print(\"Decoded Text with Updated Mapping (Step 2):\")\n",
    "print(ciphertext)\n",
    "print(decoded_text)"
   ],
   "metadata": {
    "collapsed": false,
    "ExecuteTime": {
     "end_time": "2025-03-10T03:54:31.032211Z",
     "start_time": "2025-03-10T03:54:31.023139800Z"
    }
   },
   "id": "780479289633f7e3"
  },
  {
   "cell_type": "code",
   "execution_count": 27,
   "outputs": [
    {
     "name": "stdout",
     "output_type": "stream",
     "text": [
      "Decoded Text with Updated Mapping (Step 3):\n",
      "EMGLOSUDCGDNCUSWYSFHNSFCYKDPUMLWGYICOXYSIPJCKQPKUGKMGOLICGINCGACKSNISACYKZSCKXECJCKSHYSXCGOIDPKZCNKSHICGIWYGKKGKGOLDSILKGOIUSIGLEDSPWZUGFZCCNDGYYSFUSZCNXEOJNCGYEOWEUPXEZGACGNFGLKNSACIGOIYCKXCJUCIUZCFZCCNDGYYSFEUEKUZCSOCFZCCNCIACZEJNCSHFZEJZEGMXCYHCJUMGKUCY\n",
      "IMAYNOTBEABLETOGROW_LOWER_BUTMYGARDEN_RODU_E__U_TA_MANYDEADLEA_E_OLDO_ER_HOE__IE_E_O_RO_EANDBU_HEL_O_DEADGRA__A_ANYBODY_ANDTODAYIBOUGHTAWHEELBARROWTOHEL_IN_LEARINGITU_IHA_EALWAY_LO_EDANDRE__E_TEDTHEWHEELBARROWITI_THEONEWHEELED_EHI_LEO_WHI_HIAM_ER_E_TMA_TER\n"
     ]
    }
   ],
   "source": [
    "# Add further mappings to improve the decryption result.\n",
    "substitution_mapping = {\n",
    "    'C': 'E',\n",
    "    'Z': 'H',\n",
    "    'U': 'T',\n",
    "    'F': 'W',\n",
    "    'N': 'L',\n",
    "    'G': 'A',\n",
    "    'O': 'N',\n",
    "    'I': 'D',\n",
    "    'S': 'O',\n",
    "    'D': 'B',\n",
    "    'Y': 'R',\n",
    "    'E': 'I',\n",
    "    'M': 'M',\n",
    "    'L': 'Y',\n",
    "    'P': 'U',\n",
    "    'W': 'G'\n",
    "}\n",
    "\n",
    "# Apply and display the result.\n",
    "decoded_text = apply_substitution(ciphertext, substitution_mapping)\n",
    "print(\"Decoded Text with Updated Mapping (Step 3):\")\n",
    "print(ciphertext)\n",
    "print(decoded_text)"
   ],
   "metadata": {
    "collapsed": false,
    "ExecuteTime": {
     "end_time": "2025-03-10T03:54:38.372597200Z",
     "start_time": "2025-03-10T03:54:38.348728600Z"
    }
   },
   "id": "44c5c3c9eea9f6bb"
  },
  {
   "cell_type": "code",
   "execution_count": 28,
   "outputs": [
    {
     "name": "stdout",
     "output_type": "stream",
     "text": [
      "Decoded Text with Final Mapping:\n",
      "EMGLOSUDCGDNCUSWYSFHNSFCYKDPUMLWGYICOXYSIPJCKQPKUGKMGOLICGINCGACKSNISACYKZSCKXECJCKSHYSXCGOIDPKZCNKSHICGIWYGKKGKGOLDSILKGOIUSIGLEDSPWZUGFZCCNDGYYSFUSZCNXEOJNCGYEOWEUPXEZGACGNFGLKNSACIGOIYCKXCJUCIUZCFZCCNDGYYSFEUEKUZCSOCFZCCNCIACZEJNCSHFZEJZEGMXCYHCJUMGKUCY\n",
      "IMAYNOTBEABLETOGROWFLOWERSBUTMYGARDENPRODUCESJUSTASMANYDEADLEAVESOLDOVERSHOESPIECESOFROPEANDBUSHELSOFDEADGRASSASANYBODYSANDTODAYIBOUGHTAWHEELBARROWTOHELPINCLEARINGITUPIHAVEALWAYSLOVEDANDRESPECTEDTHEWHEELBARROWITISTHEONEWHEELEDVEHICLEOFWHICHIAMPERFECTMASTER\n"
     ]
    }
   ],
   "source": [
    "# Final refinement: add the remaining mappings to complete the substitution.\n",
    "substitution_mapping = {\n",
    "    'C': 'E',\n",
    "    'Z': 'H',\n",
    "    'U': 'T',\n",
    "    'F': 'W',\n",
    "    'N': 'L',\n",
    "    'G': 'A',\n",
    "    'O': 'N',\n",
    "    'I': 'D',\n",
    "    'S': 'O',\n",
    "    'D': 'B',\n",
    "    'Y': 'R',\n",
    "    'E': 'I',\n",
    "    'M': 'M',\n",
    "    'L': 'Y',\n",
    "    'P': 'U',\n",
    "    'W': 'G',\n",
    "    'H': 'F',\n",
    "    'K': 'S',\n",
    "    'X': 'P',\n",
    "    'J': 'C',\n",
    "    'A': 'V',\n",
    "    'Q': 'J'\n",
    "}\n",
    "\n",
    "# Final application of the complete mapping.\n",
    "decoded_text = apply_substitution(ciphertext, substitution_mapping)\n",
    "print(\"Decoded Text with Final Mapping:\")\n",
    "print(ciphertext)\n",
    "print(decoded_text)"
   ],
   "metadata": {
    "collapsed": false,
    "ExecuteTime": {
     "end_time": "2025-03-10T03:54:46.199061400Z",
     "start_time": "2025-03-10T03:54:46.186607900Z"
    }
   },
   "id": "c0f98f6b0ae0130d"
  },
  {
   "cell_type": "markdown",
   "source": [
    "# Analysis and Justification for the Final Substitution Cipher Solution\n",
    "\n",
    "This cell provides a detailed explanation of why the final substitution mapping is considered correct for decoding the given ciphertext. The approach is based on classical cryptanalysis techniques, combining frequency analysis with iterative mapping refinement and statistical validation.\n",
    "\n",
    "---\n",
    "\n",
    "### 1. Frequency Analysis\n",
    "\n",
    "- **Letter Frequency:**  \n",
    "  The ciphertext is first cleaned to include only uppercase letters. The frequency $\\( f(L) \\)$ of each letter $\\( L \\)$ is computed as:\n",
    "  \n",
    "  $$\\[\n",
    "  f(L) = \\frac{\\text{Count}(L)}{N}\n",
    "  \\]$$\n",
    "  \n",
    "  where $\\( N \\)$ is the total number of letters in the ciphertext. In English, certain letters (e.g., E, T, A, O) appear more frequently. By comparing the observed frequencies in the ciphertext with these expected frequencies, we make an initial hypothesis about the mappings.\n",
    "\n",
    "- **Bigram and Trigram Frequencies:**  \n",
    "  Bigrams (pairs of letters) and trigrams (triplets of letters) are extracted and their frequencies computed. Their frequencies are calculated similarly:\n",
    "  \n",
    "  $$\\[\n",
    "  f(\\text{bigram}) = \\frac{\\text{Count}(\\text{bigram})}{N-1} \\quad \\text{and} \\quad f(\\text{trigram}) = \\frac{\\text{Count}(\\text{trigram})}{N-2}\n",
    "  \\]$$\n",
    "  \n",
    "  Common bigrams (like TH, HE) and trigrams (like THE, AND) in English help confirm or adjust the initial mapping based on observed patterns in the ciphertext.\n",
    "\n",
    "---\n",
    "\n",
    "### 2. Iterative Mapping Refinement\n",
    "\n",
    "- **Initial Hypothesis:**  \n",
    "  An initial substitution mapping is proposed based on the most frequent letters. For example, if the letter 'C' in the ciphertext is very frequent and E is the most common letter in English, one might map:\n",
    "  \n",
    "    'C' -> 'E'\n",
    "  \n",
    "\n",
    "Similar initial mappings are made for other high-frequency letters.\n",
    "\n",
    "- **Pattern Recognition:**  \n",
    "The analysis of bigrams and trigrams (e.g., checking for recurring sequences such as \"FZ\" or \"UZ\", or specific trigram patterns) provides clues about common words or letter combinations. Each observation leads to adjustments in the mapping.\n",
    "\n",
    "- **Refinement Process:**  \n",
    "The mapping is updated iteratively:\n",
    "- **Step 1:** Begin with a few guessed mappings (e.g., {'C': 'E', 'Z': 'H', 'U': 'T'}).\n",
    "- **Step 2:** Analyze additional patterns and update the mapping (e.g., add {'F': 'W', 'N': 'L', 'G': 'A', 'O': 'N', 'I': 'D'}).\n",
    "- **Step 3:** Further refine by including more letters and their likely substitutes (e.g., {'S': 'O', 'D': 'B', 'Y': 'R'}).\n",
    "- **Final Step:** Complete the mapping with all letters, ensuring the decoded text produces meaningful words.\n",
    "\n",
    "The final mapping achieved is:\n",
    "\n",
    "{ 'C': 'E', 'Z': 'H', 'U': 'T', 'F': 'W', 'N': 'L', 'G': 'A', 'O': 'N', 'I': 'D', 'S': 'O', 'D': 'B', 'Y': 'R', 'E': 'I', 'M': 'M', 'L': 'Y', 'P': 'U', 'W': 'G', 'H': 'F', 'K': 'S', 'X': 'P', 'J': 'C', 'A': 'V', 'Q': 'J' }  \n",
    "    \n",
    "\n",
    "This mapping is applied using the function:\n",
    "\n",
    "$$\\[\n",
    "\\text{Decoded Text} = \\text{apply\\_substitution(ciphertext, substitution\\_mapping)}\n",
    "\\]$$\n",
    "\n",
    "---\n",
    "\n",
    "### 3. Mathematical and Statistical Validation\n",
    "\n",
    "- **Chi-Square Test:**  \n",
    "  Although not explicitly implemented in the code, one could use the Chi-square statistic to compare the observed letter frequency distribution of the decoded text with that of typical English. The Chi-square statistic is defined as:\n",
    "  \n",
    "  $$\\[\n",
    "  \\chi^2 = \\sum_{i=1}^{k} \\frac{(O_i - E_i)^2}{E_i}\n",
    "  \\]$$\n",
    "  \n",
    "  where:\n",
    "  - $\\( O_i \\)$ is the observed frequency of letter $\\( i \\)$ in the decoded text.\n",
    "  - $\\( E_i \\)$ is the expected frequency of letter $\\( i \\)$ in English.\n",
    "  \n",
    "  A lower Chi-square value indicates a better match to the expected distribution, which supports the correctness of the mapping.\n",
    "\n",
    "- **Coherence of the Decoded Text:**  \n",
    "  The final decoded text is evaluated for the appearance of valid words and overall coherence. The mapping is considered correct if the resulting text aligns with English language patterns and contains recognizable words and phrases.\n",
    "\n",
    "---\n",
    "\n",
    "### 4. Conclusion\n",
    "\n",
    "The final substitution mapping is justified because:\n",
    "\n",
    "- It is derived from a thorough frequency analysis (letters, bigrams, trigrams) of the ciphertext.\n",
    "- It follows an iterative refinement process, where each step is based on observed patterns and statistical clues.\n",
    "- Mathematical validation methods (e.g., Chi-square test) can be used to confirm that the decoded text's letter distribution closely resembles that of typical English.\n",
    "- The resulting decoded text is coherent and aligns with the expectations for an English message.\n",
    "\n",
    "This comprehensive approach—combining statistical analysis, pattern recognition, and iterative refinement—forms the foundation for why this final mapping is the correct answer to the substitution cipher challenge.\n",
    "\n",
    " \n",
    "  "
   ],
   "metadata": {
    "collapsed": false
   },
   "id": "6c420064c70152e8"
  },
  {
   "cell_type": "markdown",
   "source": [
    "# Vigenere Cipher"
   ],
   "metadata": {
    "collapsed": false
   },
   "id": "fbe26e0dd008cbb"
  },
  {
   "cell_type": "code",
   "execution_count": 1,
   "outputs": [
    {
     "name": "stdout",
     "output_type": "stream",
     "text": [
      "Key length: 2 | Key: YO | Total chi-square: 898.78\n",
      "Decrypted text (first 100 characters):\n",
      "MOEBMNIGHPRTSFAMXUPDTFOHIDMPPNXRFQVPIUNFZDIGFPMAVRONRHIQIXVSEWSDCOSOYPPMYOTJKLCWHFNQYDRFAOSWAHZOJWHF\n",
      "----------------------------------------------------------------------\n",
      "Key length: 3 | Key: PTO | Total chi-square: 679.7\n",
      "Decrypted text (first 100 characters):\n",
      "VJOARNRBROWTBAKLCUYYDETHRYWOUNGMPPAPRPXEEDRBPORAEMYMWHRLSWASNRCCHOBJIOUMHJDIPLLRRESQHYBEFOBRKGEOSRRE\n",
      "----------------------------------------------------------------------\n",
      "Key length: 4 | Key: PPJA | Total chi-square: 846.56\n",
      "Decrypted text (first 100 characters):\n",
      "VNTPVMXUQOGHBEPAGTERCEDVRCBDYMMFOPKDRTCTICXUOOBOEQDBAGXERWKGNVHRLNHCHOEAHNIXTKRKQECEHCGTJNHKJGOCSVWT\n",
      "----------------------------------------------------------------------\n",
      "Key length: 5 | Key: XOFCP | Total chi-square: 1019.82\n",
      "Decrypted text (first 100 characters):\n",
      "NOXNVESPDOSTLRJDHDLCUFHTRUWYLMYRYCEGSDJEADBSOGWJRQPNKTRHSGRRFWLPLFCXUOQMRACAUUYVIFGCHUBOWNTWTTIFTFDE\n",
      "----------------------------------------------------------------------\n",
      "Key length: 6 | Key: CRYPTO | Total chi-square: 141.92\n",
      "Decrypted text (first 100 characters):\n",
      "ILEARNEDHOWTOCALCULATETHEAMOUNTOFPAPERNEEDEDFORAROOMWHENIWASATSCHOOLYOUMULTIPLYTHESQUAREFOOTAGEOFTHE\n",
      "----------------------------------------------------------------------\n",
      "Key length: 7 | Key: FEPEVIZ | Total chi-square: 859.62\n",
      "Decrypted text (first 100 characters):\n",
      "FYNLPTHPBOLMIUTWGESJSOIGCWCEIXGBIWUYCTHYPSBQOZPGUAIMLAYFBHECHCRMWNMHOEIWHYWPJUWVBYDFRNAPDURFUGTHZLAP\n",
      "----------------------------------------------------------------------\n",
      "Key length: 8 | Key: XPJRVOYO | Total chi-square: 932.5\n",
      "Decrypted text (first 100 characters):\n",
      "NNTYPNIGIOGQVFAMYTEAWFOHJCBMSNXRGPKMLUNFACXDIPMAWQDKUHIQJWKPHWSDDNHLBPPMZNIGNLCWIECNBDRFBNHTDHZOKVWC\n",
      "----------------------------------------------------------------------\n",
      "Key length: 9 | Key: PCZPXWPTQ | Total chi-square: 719.35\n",
      "Decrypted text (first 100 characters):\n",
      "VADANFRBPONIBWCLCSYPSEPZRYUOLCGIHPANRGMEAVRBNOIPEIQMWFRCHWWKNRACYDBFAOUKHASILDLRPEJFHUTEFMBIZGAGSRPE\n",
      "----------------------------------------------------------------------\n",
      "Key length: 10 | Key: VJFKEPPBCA | Total chi-square: 817.83\n",
      "Decrypted text (first 100 characters):\n",
      "PTXFGMRTDDUYLJULGHLRWKHLCCVCLBAWYUPORHJTCIBKZOVNRFRSKLCPRKRGHBLHWNBBUDSRRSNITYYKKKGUSCASWCVBTLTNSJDT\n",
      "----------------------------------------------------------------------\n",
      "Key length: 11 | Key: SOSHGXIUODA | Total chi-square: 888.15\n",
      "Decrypted text (first 100 characters):\n",
      "SOKIEEYARAPPCBRUYATDOTUHOKEGFHHCDMFLZCOLDDDULPSHNIEHBSGMSTMAFCWDXCYOEWHDOIDUIHMSYNOWCDMTGOYDSYPITHFB\n",
      "----------------------------------------------------------------------\n",
      "Key length: 12 | Key: CRYPTOCRYPTO | Total chi-square: 271.64\n",
      "Decrypted text (first 100 characters):\n",
      "ILEARNEDHOWTOCALCULATETHEAMOUNTOFPAPERNEEDEDFORAROOMWHENIWASATSCHOOLYOUMULTIPLYTHESQUAREFOOTAGEOFTHE\n",
      "----------------------------------------------------------------------\n",
      "Key length: 13 | Key: OUAPPBPYAREVI | Total chi-square: 760.82\n",
      "Decrypted text (first 100 characters):\n",
      "WICAVARWFMLMIFEAGTMCTTVRLJWJNMGEOGTMCNDFDRRFCOMOCBRTBBGPRKEICTMWSOWCHOMLYCATNRMQFEWDHTPCUHIWEVINGVHT\n",
      "----------------------------------------------------------------------\n",
      "Key length: 14 | Key: AAPOVAXZEOUOWZ | Total chi-square: 861.36\n",
      "Decrypted text (first 100 characters):\n",
      "KCNBPBJVBPVTUUYAGUSRUUIHMDOENBGRIEWECURFBSGUOPPOWGINVHKFGLESHKTSWOWOAENAHOWXLAWWLFPFWRAFDCTLUHDOLLFT\n",
      "----------------------------------------------------------------------\n",
      "Key length: 15 | Key: CRWPTYPDJPTXPCK | Total chi-square: 852.59\n",
      "Decrypted text (first 100 characters):\n",
      "ILGARDRRWOWKBROYEMYYTEJMRYNOLRTOHPAFRFCEEURSTBTSEMOMMMRLJWRWATUCHEBZNOUDHAHVRDLRHEIVHYSEWSOTCGEESHWE\n",
      "----------------------------------------------------------------------\n",
      "Key length: 16 | Key: HCLRYAAAEPJJVPXO | Total chi-square: 741.03\n",
      "Decrypted text (first 100 characters):\n",
      "DARYMBGUBOGYVEBMOGCATTMVCCBUSMYRWCIMIILTTCXLIONAMDBKRVGECWKXHVTDTAFLYDNASNIONKDWYRANYRPTUNHBDGAOAIUC\n",
      "----------------------------------------------------------------------\n"
     ]
    }
   ],
   "source": [
    "import string\n",
    "\n",
    "# Letter frequency distribution in English (percentage)\n",
    "english_freq = {\n",
    "    'A': 8.167, 'B': 1.492, 'C': 2.782, 'D': 4.253, 'E': 12.702,\n",
    "    'F': 2.228, 'G': 2.015, 'H': 6.094, 'I': 6.966, 'J': 0.153,\n",
    "    'K': 0.772, 'L': 4.025, 'M': 2.406, 'N': 6.749, 'O': 7.507,\n",
    "    'P': 1.929, 'Q': 0.095, 'R': 5.987, 'S': 6.327, 'T': 9.056,\n",
    "    'U': 2.758, 'V': 0.978, 'W': 2.360, 'X': 0.150, 'Y': 1.974,\n",
    "    'Z': 0.074\n",
    "}\n",
    "\n",
    "def clean_text(text):\n",
    "    \"\"\"\n",
    "    Cleans the text by keeping only uppercase letters.\n",
    "    \"\"\"\n",
    "    return ''.join([c for c in text.upper() if c in string.ascii_uppercase])\n",
    "\n",
    "def chi_square_statistic(text_segment, shift):\n",
    "    \"\"\"\n",
    "    For a given text segment (a column) and a shift value,\n",
    "    applies the inverse shift and calculates the chi-square statistic.\n",
    "    \"\"\"\n",
    "    # Shift each letter backward according to 'shift'\n",
    "    shifted_text = ''.join([chr((ord(c) - ord('A') - shift) % 26 + ord('A')) for c in text_segment])\n",
    "    \n",
    "    # Count occurrences of each letter\n",
    "    count = {letter: 0 for letter in string.ascii_uppercase}\n",
    "    for c in shifted_text:\n",
    "        count[c] += 1\n",
    "    total = len(shifted_text)\n",
    "    \n",
    "    # Compute chi-square statistic\n",
    "    chi_sq = 0.0\n",
    "    for letter in string.ascii_uppercase:\n",
    "        observed = count[letter]\n",
    "        expected = total * (english_freq[letter] / 100)\n",
    "        if expected > 0:\n",
    "            chi_sq += ((observed - expected) ** 2) / expected\n",
    "    return chi_sq\n",
    "\n",
    "def find_key_for_length(ciphertext, key_length):\n",
    "    \"\"\"\n",
    "    Given a specific key length, splits the ciphertext into 'key_length' columns and\n",
    "    determines the best letter (shift) for each column based on the minimum chi-square value.\n",
    "    \"\"\"\n",
    "    key = \"\"\n",
    "    for i in range(key_length):\n",
    "        # Extract the i-th column: letters at positions i, i+key_length, i+2*key_length, ...\n",
    "        col = ciphertext[i::key_length]\n",
    "        best_shift = None\n",
    "        best_chi = float('inf')\n",
    "        # Try all possible shifts (0 to 25)\n",
    "        for shift in range(26):\n",
    "            chi = chi_square_statistic(col, shift)\n",
    "            if chi < best_chi:\n",
    "                best_chi = chi\n",
    "                best_shift = shift\n",
    "        # The key letter corresponds to the best shift\n",
    "        key += chr(best_shift + ord('A'))\n",
    "    return key\n",
    "\n",
    "def decrypt_vigenere(ciphertext, key):\n",
    "    \"\"\"\n",
    "    Decrypts the ciphertext using the given key.\n",
    "    \"\"\"\n",
    "    plaintext = \"\"\n",
    "    key_length = len(key)\n",
    "    for i, c in enumerate(ciphertext):\n",
    "        # Compute the shift corresponding to the key letter\n",
    "        shift = ord(key[i % key_length]) - ord('A')\n",
    "        # Decrypt the letter\n",
    "        p = (ord(c) - ord('A') - shift) % 26\n",
    "        plaintext += chr(p + ord('A'))\n",
    "    return plaintext\n",
    "\n",
    "# Ciphertext (Vigenère Cipher)\n",
    "ciphertext_raw = \"\"\"KCCPKBGUFDPHQTYAVINRRTMVGRKDNBVFDETDGILTXRGUD\n",
    "DKOTFMBPVGEGLTGCKQRACQCWDNAWCRXIZAKFTLEWRPTYC\n",
    "QKYVXCHKFTPONCQQRHJVAJUWETMCMSPKQDYHJVDAHCTRL\n",
    "SVSKCGCZQQDZXGSFRLSWCWSJTBHAFSIASPRJAHKJRJUMV\n",
    "GKMITZHFPDISPZLVLGWTFPLKKEBDPGCEBSHCTJRWXBAFS\n",
    "PEZQNRWXCVYCGAONWDDKACKAWBBIKFTIOVKCGGHJVLNHI\n",
    "FFSQESVYCLACNVRWBBIREPBBVFEXOSCDYGZWPFDTKFQIY\n",
    "CWHJVLNHIQIBTKHJVNPIST\"\"\"\n",
    "\n",
    "# Clean the ciphertext\n",
    "ciphertext = clean_text(ciphertext_raw)\n",
    "\n",
    "# Search for the key by testing different lengths (e.g., from 2 to 16)\n",
    "results = []\n",
    "for key_length in range(2, 17):\n",
    "    key_candidate = find_key_for_length(ciphertext, key_length)\n",
    "    plaintext_candidate = decrypt_vigenere(ciphertext, key_candidate)\n",
    "    \n",
    "    # Compute the total chi-square sum for each column with the obtained shift\n",
    "    chi_total = 0.0\n",
    "    for i in range(key_length):\n",
    "        col = ciphertext[i::key_length]\n",
    "        shift = ord(key_candidate[i]) - ord('A')\n",
    "        chi_total += chi_square_statistic(col, shift)\n",
    "    \n",
    "    results.append((key_length, key_candidate, chi_total, plaintext_candidate[:100]))\n",
    "\n",
    "# Display results for each candidate key length\n",
    "for r in results:\n",
    "    print(\"Key length:\", r[0], \"| Key:\", r[1], \"| Total chi-square:\", round(r[2], 2))\n",
    "    print(\"Decrypted text (first 100 characters):\")\n",
    "    print(r[3])\n",
    "    print(\"-\" * 70)\n"
   ],
   "metadata": {
    "collapsed": false,
    "ExecuteTime": {
     "end_time": "2025-03-11T14:03:30.981310500Z",
     "start_time": "2025-03-11T14:03:30.901261300Z"
    }
   },
   "id": "d0d6a1c9449d5dc9"
  },
  {
   "cell_type": "markdown",
   "source": [
    "# Explanation for Selecting \"CRYPTO\" as the Correct Decryption Key\n",
    "\n",
    "This cell provides an in-depth explanation, including the mathematical and statistical reasoning, for why the candidate key **\"CRYPTO\"** (with a key length of 6) is considered the correct decryption key for the provided Vigenère cipher.\n",
    "\n",
    "## 1. Overview of the Vigenere Cipher\n",
    "\n",
    "The Vigenère cipher is a polyalphabetic cipher where each letter of the plaintext is shifted by a number determined by a repeating key. For a key of length $\\( L \\)$, the cipher applies a cyclic shift:\n",
    "- The first letter of the plaintext is shifted by the numerical value of the first letter of the key.\n",
    "- The second letter is shifted by the second letter of the key, and so on.\n",
    "- After $\\( L \\)$ letters, the key repeats.\n",
    "\n",
    "## 2. Preprocessing and Column Division\n",
    "\n",
    "**Preprocessing:**\n",
    "- The ciphertext is sanitized by removing any non-alphabetical characters and converting all letters to uppercase.\n",
    "- This is crucial because the statistical analysis (frequency counts) relies on the standard 26-letter English alphabet.\n",
    "\n",
    "**Column Division:**\n",
    "- For a given candidate key length $\\( L \\)$, the ciphertext is divided into $\\( L \\)$ groups (columns).\n",
    "- Each column consists of every $\\( L \\)-th$ letter of the ciphertext. \n",
    "- Since each column is encrypted with a single letter (shift), the statistical properties (letter frequencies) of the original plaintext are partially preserved.\n",
    "\n",
    "## 3. Chi-Square Statistical Analysis\n",
    "\n",
    "For each column, the following process is applied:\n",
    "\n",
    "### 3.1. Calculating Expected Frequencies\n",
    "- English text has a known distribution of letters (e.g., $\\( E \\)$ is approximately 12.7%).\n",
    "- For a column of $\\( N \\)$ letters, the expected count $\\( E_i \\)$ for a letter $\\( i \\)$ is given by:\n",
    "  $$\n",
    "  E_i = N \\times \\left(\\frac{p_i}{100}\\right)\n",
    "  $$\n",
    "  where $\\( p_i \\)$ is the percentage frequency of letter $\\( i \\)$ in English.\n",
    "\n",
    "### 3.2. Applying a Shift and Computing Chi-Square\n",
    "- For each possible shift $\\( s \\)$ (from 0 to 25), the ciphertext column is shifted in the reverse direction (i.e., decryption).\n",
    "- The chi-square statistic for the shifted text is computed as:\n",
    "  $$\n",
    "  \\chi^2 = \\sum_{i=1}^{26} \\frac{(O_i - E_i)^2}{E_i}\n",
    "  $$\n",
    "  where:\n",
    "  - $\\( O_i \\)$ is the observed frequency (the count of letter $\\( i \\)$ in the shifted column).\n",
    "  - $\\( E_i \\)$ is the expected frequency for that letter.\n",
    "- A lower chi-square value indicates that the observed letter distribution closely matches that of typical English, suggesting a correct decryption for that column.\n",
    "\n",
    "## 4. Key Reconstruction\n",
    "\n",
    "- The optimal shift for each column is determined by selecting the shift $\\( s \\)$ that minimizes the chi-square statistic.\n",
    "- These optimal shifts are then converted to their corresponding letters, forming a candidate key.\n",
    "- The total chi-square value for a candidate key is the sum of the chi-square values from each column.\n",
    "\n",
    "## 5. Evaluation of Candidate Keys\n",
    "\n",
    "The algorithm tested candidate key lengths from 2 to 16. Notably:\n",
    "- For a key length of **6**, the candidate key obtained was **\"CRYPTO\"**, with an exceptionally low chi-square total of **141.92**.\n",
    "- The decrypted text for this candidate key began with:\n",
    "    \n",
    "    ```\n",
    "    ILEARNEDHOWTOCALCULATETHEAMOUNTOFPAPERNEEDEDFORAROOMWHENIWASATSCHOOLYOUMULTIPLYTHESQUAREFOOTAGEOFTHE\n",
    "    ```\n",
    "  \n",
    "which is syntactically and semantically coherent, indicating a proper decryption.\n",
    "\n",
    "- For a key length of **12**, the key **\"CRYPTOCRYPTO\"** was produced. Although this repetition yields the same plaintext, the chi-square value is higher. This occurs because the same key repeated over more columns results in fewer data points per column, reducing the statistical reliability of the chi-square measure.\n",
    "\n",
    "## 6. Conclusion\n",
    "\n",
    "The selection of **\"CRYPTO\"** is based on both statistical evidence and the legibility of the resulting plaintext:\n",
    "- **Statistical Evidence:** The candidate key \"CRYPTO\" minimizes the chi-square statistic, indicating that the frequency distribution of the decrypted text closely aligns with that of standard English.\n",
    "- **Legibility:** The decrypted text is meaningful and syntactically correct, which validates the key selection process.\n",
    "- **Redundancy Check:** The fact that \"CRYPTOCRYPTO\" (key length 12) produces the same plaintext confirms that the underlying repeating unit is indeed \"CRYPTO\".\n",
    "\n",
    "Thus, the combination of rigorous statistical analysis and the production of coherent plaintext provides strong evidence that **\"CRYPTO\"** is the correct decryption key for the given Vigenère cipher.\n"
   ],
   "metadata": {
    "collapsed": false
   },
   "id": "2e37ca507d3795ea"
  },
  {
   "cell_type": "markdown",
   "source": [
    "# Affine Cipher"
   ],
   "metadata": {
    "collapsed": false
   },
   "id": "7d6e8d2f7cad26c2"
  },
  {
   "cell_type": "code",
   "execution_count": 3,
   "outputs": [
    {
     "name": "stdout",
     "output_type": "stream",
     "text": [
      "Key a = 19 , b = 4 -> Chi-squared = 90.33\n",
      "OCANADATERREDENOSAIEUXTONFRONTESTCEINTDEFLEURONSGLORIEUXCARTONBRASSAITPORTERLEPEEILSAITPORTERLACROIXTONHISTOIREESTUNEEPOPEEDESPLUSBRILLANTSEXPLOITSETTAVALEURDEFOITREMPEEPROTEGERANOSFOYERSETNOSDROITS\n",
      "\n",
      "------------------------------------------------------------\n",
      "\n",
      "Key a = 23 , b = 15 -> Chi-squared = 253.11\n",
      "TRVIVCVWNAANCNITLVFNHOWTIYATIWNLWRNFIWCNYMNHATILJMTAFNHORVAWTIGAVLLVFWETAWNAMNENNFMLVFWETAWNAMVRATFOWTIUFLWTFANNLWHINNETENNCNLEMHLGAFMMVIWLNOEMTFWLNWWVSVMNHACNYTFWANXENNEATWNJNAVITLYTZNALNWITLCATFWL\n",
      "\n",
      "------------------------------------------------------------\n",
      "\n",
      "Key a = 3 , b = 15 -> Chi-squared = 254.36\n",
      "HJFSFYFENAANYNSHPFVNTMEHSCAHSENPEJNVSEYNCONTAHSPROHAVNTMJFAEHSUAFPPFVEWHAENAONWNNVOPFVEWHAENAOFJAHVMEHSGVPEHVANNPETSNNWHWNNYNPWOTPUAVOOFSEPNMWOHVEPNEEFIFONTAYNCHVEANDWNNWAHENRNAFSHPCHBNAPNESHPYAHVEP\n",
      "\n",
      "------------------------------------------------------------\n",
      "\n",
      "Key a = 11 , b = 3 -> Chi-squared = 283.55\n",
      "DNTGTKTOHUUHKHGDRTVHLCODGEUDGOHRONHVGOKHEMHLUDGRBMDUVHLCNTUODGQUTRRTVOADUOHUMHAHHVMRTVOADUOHUMTNUDVCODGYVRODVUHHROLGHHADAHHKHRAMLRQUVMMTGORHCAMDVORHOOTITMHLUKHEDVOUHJAHHAUDOHBHUTGDREDZHURHOGDRKUDVOR\n",
      "\n",
      "------------------------------------------------------------\n",
      "\n",
      "Key a = 7 , b = 13 -> Chi-squared = 357.66\n",
      "HTVIVSVCREERSRIHDVNRBYCHIQEHICRDCTRNICSRQKRBEHIDPKHENRBYTVECHIUEVDDVNCGHECREKRGRRNKDVNCGHECREKVTEHNYCHIONDCHNERRDCBIRRGHGRRSRDGKBDUENKKVICDRYGKHNCDRCCVAVKRBESRQHNCERJGRRGEHCRPREVIHDQHXREDRCIHDSEHNCD\n",
      "\n",
      "------------------------------------------------------------\n"
     ]
    }
   ],
   "source": [
    "import math\n",
    "\n",
    "# Ciphertext (newlines removed)\n",
    "ciphertext = \"\"\"KQEREJEBCPPCJCRKIEACUZBKRVPKRBCIBQCARBJCVFCUP\n",
    "KRIOFKPACUZQEPBKRXPEIIEABDKPBCPFCDCCAFIEABDKP\n",
    "BCPFEQPKAZBKRHAIBKAPCCIBURCCDKDCCJCIDFUIXPAFF\n",
    "ERBICZDFKABICBBENEFCUPJCVKABPCYDCCDPKBCOCPERK\n",
    "IVKSCPICBRKIJPKABI\"\"\"\n",
    "ciphertext = ciphertext.replace(\"\\n\", \"\")\n",
    "\n",
    "# Function to obtain the values of 'a' that are coprime with 26\n",
    "def get_valid_a():\n",
    "    valid = []\n",
    "    for a in range(1, 26):\n",
    "        if math.gcd(a, 26) == 1:\n",
    "            valid.append(a)\n",
    "    return valid\n",
    "\n",
    "# Function to calculate the modular inverse of a modulo m\n",
    "def modinv(a, m):\n",
    "    a = a % m\n",
    "    for x in range(1, m):\n",
    "        if (a * x) % m == 1:\n",
    "            return x\n",
    "    return None\n",
    "\n",
    "# English letter frequencies (used for statistical analysis)\n",
    "freq_en = {\n",
    "    'A': 0.08167, 'B': 0.01492, 'C': 0.02782, 'D': 0.04253, \n",
    "    'E': 0.12702, 'F': 0.02228, 'G': 0.02015, 'H': 0.06094, \n",
    "    'I': 0.06966, 'J': 0.00153, 'K': 0.00772, 'L': 0.04025, \n",
    "    'M': 0.02406, 'N': 0.06749, 'O': 0.07507, 'P': 0.01929, \n",
    "    'Q': 0.00095, 'R': 0.05987, 'S': 0.06327, 'T': 0.09056, \n",
    "    'U': 0.02758, 'V': 0.00978, 'W': 0.02360, 'X': 0.00150, \n",
    "    'Y': 0.01974, 'Z': 0.00074\n",
    "}\n",
    "\n",
    "# Function to compute the chi-squared statistic for a given text\n",
    "def chi_squared(text):\n",
    "    text = text.upper()\n",
    "    total = len(text)\n",
    "    counts = {letter: 0 for letter in freq_en.keys()}\n",
    "    for char in text:\n",
    "        if char in counts:\n",
    "            counts[char] += 1\n",
    "    chi2 = 0.0\n",
    "    for letter in freq_en:\n",
    "        observed = counts[letter]\n",
    "        expected = freq_en[letter] * total\n",
    "        chi2 += ((observed - expected) ** 2) / expected\n",
    "    return chi2\n",
    "\n",
    "# List to store the results for each key pair (a, b)\n",
    "results = []\n",
    "\n",
    "# Get valid values of 'a' (those that are coprime with 26)\n",
    "valid_a = get_valid_a()\n",
    "\n",
    "# Try all combinations of 'a' and 'b'\n",
    "for a in valid_a:\n",
    "    a_inv = modinv(a, 26)\n",
    "    for b in range(26):\n",
    "        decrypted = \"\"\n",
    "        for char in ciphertext:\n",
    "            if char.isalpha():\n",
    "                # Convert letter to number (A=0, B=1, ..., Z=25)\n",
    "                num = ord(char) - ord('A')\n",
    "                # Apply the decryption formula: D(y) = a_inv * (y - b) mod 26\n",
    "                dec_num = (a_inv * (num - b)) % 26\n",
    "                decrypted += chr(dec_num + ord('A'))\n",
    "            else:\n",
    "                decrypted += char\n",
    "        # Calculate the chi-squared statistic to evaluate how close the result is to expected frequencies\n",
    "        chi2 = chi_squared(decrypted)\n",
    "        results.append((a, b, chi2, decrypted))\n",
    "\n",
    "# Sort the results from lowest to highest chi-squared value\n",
    "results = sorted(results, key=lambda x: x[2])\n",
    "\n",
    "# Print the 5 results with the lowest chi-squared values (the most promising candidates)\n",
    "for a, b, chi2, decrypted in results[:5]:\n",
    "    print(\"Key a =\", a, \", b =\", b, \"-> Chi-squared =\", round(chi2, 2))\n",
    "    print(decrypted)\n",
    "    print(\"\\n\" + \"-\"*60 + \"\\n\")\n"
   ],
   "metadata": {
    "collapsed": false,
    "ExecuteTime": {
     "end_time": "2025-03-10T02:48:40.201803100Z",
     "start_time": "2025-03-10T02:48:40.114696Z"
    }
   },
   "id": "a564963f1cafc8d9"
  },
  {
   "cell_type": "markdown",
   "source": [
    "# Analysis of the Affine Cipher Decryption\n",
    "\n",
    "The Affine Cipher encryption function is defined as:\n",
    "\n",
    "$$\n",
    "E(x) = (a \\cdot x + b) \\mod 26\n",
    "$$\n",
    "\n",
    "and the decryption function is:\n",
    "\n",
    "$$\n",
    "D(y) = a^{-1}(y - b) \\mod 26\n",
    "$$\n",
    "\n",
    "where:\n",
    "- $\\( a \\)$ must be coprime with 26 (i.e., $\\( \\gcd(a,26)=1 \\))$,\n",
    "- $\\( a^{-1} \\)$ is the modular inverse of $\\( a \\)$ modulo 26.\n",
    "\n",
    "## Methodology\n",
    "\n",
    "1. **Key Space Exploration:**  \n",
    "   All valid pairs of keys \\((a, b)\\) were tested. The valid values for \\( a \\) are those for which $\\( \\gcd(a,26)=1 \\)$. For each $\\( a \\)$, every $\\( b \\)$ in the range 0 to 25 was considered.\n",
    "\n",
    "2. **Decryption Process:**  \n",
    "   For each candidate key, every letter of the ciphertext is converted to its numerical equivalent (A=0, B=1, …, Z=25) and decrypted using:\n",
    "\n",
    "   $$\n",
    "   D(y) = a^{-1}(y - b) \\mod 26\n",
    "   $$\n",
    "\n",
    "3. **Statistical Analysis with Chi-Squared Test:**  \n",
    "   The chi-squared statistic was computed for each decryption result to compare the observed letter frequency distribution with the expected distribution (derived from typical language usage—in this case, French, since the resulting text hints at the Canadian national anthem). The formula used is:\n",
    "\n",
    "   $$\n",
    "   \\chi^2 = \\sum_{i=1}^{26} \\frac{(O_i - E_i)^2}{E_i}\n",
    "   $$\n",
    "\n",
    "   where:\n",
    "   - $\\( O_i \\)$ is the observed count of the $\\( i^{th} \\)$ letter,\n",
    "   - $\\( E_i \\)$ is the expected count based on standard language frequencies,\n",
    "   - A lower chi-squared value indicates a closer match to the expected frequency distribution.\n",
    "\n",
    "## Results and Justification\n",
    "\n",
    "Among all key pairs, the pair \\((a = 19, b = 4)\\) produced a chi-squared value of **90.33**—substantially lower than the values for other candidates. This indicates that the letter frequencies in the decrypted text are very close to those expected in natural language.\n",
    "\n",
    "The decrypted text with \\((a = 19, b = 4)\\) is:\n",
    "\n",
    "OCANADATERREDENOSAIEUXTONFRONTESTCEINTDEFLEURONSGLORIEUXCARTONBRASSAITPORTERLEPEEILSAITPORTERLACROIXTONHISTOIREESTUNEEPOPEEDESPLUSBRILLANTSEXPLOITSETTAVALEURDEFOITREMPEEPROTEGERANOSFOYERSETNOSDROITS\n",
    "\n",
    "\n",
    "This output is clearly intelligible and corresponds to the famous French lyrics of the Canadian national anthem (\"Ô Canada, terre de nos aïeux...\"). The fact that the plaintext is coherent and contextually relevant confirms that the correct decryption key has been identified.\n",
    "\n",
    "## Conclusion\n",
    "\n",
    "- **Mathematical Validity:** The decryption process uses the proper modular arithmetic and the correct formula.\n",
    "- **Exhaustive Search:** All potential key pairs were examined, ensuring that no possibility was overlooked.\n",
    "- **Statistical Support:** The chi-squared test confirms that the decryption with \\((a = 19, b = 4)\\) yields a letter frequency distribution very close to that expected in natural language.\n",
    "- **Intelligible Output:** The decrypted message is recognizable and contextually appropriate.\n",
    "\n",
    "Thus, the key \\((a = 19, b = 4)\\) is confirmed to be the correct decryption key for the given Affine Cipher ciphertext.\n"
   ],
   "metadata": {
    "collapsed": false
   },
   "id": "980ce48e1aecf49b"
  },
  {
   "cell_type": "markdown",
   "source": [
    "# Other cipher:"
   ],
   "metadata": {
    "collapsed": false
   },
   "id": "47fe813422b85f3"
  },
  {
   "cell_type": "code",
   "execution_count": 4,
   "outputs": [
    {
     "name": "stdout",
     "output_type": "stream",
     "text": [
      "Length of ciphertext: 373\n",
      "Index of Coincidence: 0.04138199429213872\n",
      "Friedman estimated key length: 7.836732777989865\n",
      "Key length: 2 Estimated key: EA\n",
      "Decrypted text (first 200 characters):\n",
      "XNRSJSEHMCAEHSOKGYAREFFKTUIBCYGAIQHJPYWVBBGVPDRBLVRRFYULWOGYIPMSYGZLBSNLHPNOUGASABQUWLNWTMIAOAVLCLADBJXZWVRPTWECCJTAOCXYAHKSJMQLGCAADTMOGMBLABGFTLNRBDPZTCEWXJOIYBCASDRYZHWVBJTZEBGCCJEWAADTPOAWPUDKNQRV\n",
      "--------------------------------------------------\n",
      "Key length: 3 Estimated key: ZNE\n",
      "Decrypted text (first 200 characters):\n",
      "CARTAOJUMDRAMFOLXUFEEGWGYHICTULNIRYFULWWSXLIPEIXQIRSWUZYWPXUNCMTPCEYBTEHMCNPLCFFACHQBYNXKINNOBMHHYAESFCMWWILYJEDTFYNODOUFUKTAIVYGDRWIGMPXIGYACXBYYNSSZUMTDVSCWOJPXHNSEIUEUWWSFYMECXYHWEXRWIGPPRSUHDLEMWI\n",
      "--------------------------------------------------\n",
      "Key length: 4 Estimated key: EUXH\n",
      "Decrypted text (first 200 characters):\n",
      "XTYLJYLAMIHXHYVDGEHKELMDTAPUCENTIWOCPEDOBHNOPJYULBYKFEBEWUNRIVTLYMGEBYUEHVUHUMHLAHXNWRUPTSPTOGCECRHWBPESWBYITCLVCPATOIERANRLJSXEGIHTDZTHGSIEAHNYTRUKBJWSTILPXPVBYHJTSJYRZNDOBPASEHNVCPLPAGKMPUHPPAKDNWYO\n",
      "--------------------------------------------------\n",
      "Key length: 5 Estimated key: AAGSL\n",
      "Decrypted text (first 200 characters):\n",
      "BNPACSIBYREEFAHKKSMGIFDSMUMVONKAGYAJTSIKFBEDIDVVXKVRDGNLAISNMPKARGDFNHRLFXGOYAMHEBOCPLRQFBMAMIOLGFMSFJVHPVVJFLICARMASWJNEHIACMUFSREABBFOKGNAEBENMLRLNSTZRKXWBDAXCBAILDVSLWAVZRMZIVSRGJCETAHNBDEWNCWKRKDK\n",
      "--------------------------------------------------\n",
      "Key length: 6 Estimated key: THEORY\n",
      "Decrypted text (first 200 characters):\n",
      "IGREWUPAMONGSLOWTALKERSMENINPARTICULARWHODROPPEDWORDSAFEWATATIMELIKEBEANSINAHILLANDWHENIGOTTOMINNEAPOLISWHEREPEOPLETOOKALAKEWOBEGONCOMMATOMEANTHEENDOFASTORYICOULDNTSPEAKAWHOLESENTENCEINCOMPANYANDWASCO\n",
      "--------------------------------------------------\n",
      "Key length: 7 Estimated key: GEQXKUH\n",
      "Decrypted text (first 200 characters):\n",
      "VJFVDYBBMMHURLMGUBUXBZFUAKSUAUUDCWEDPIDLLUERDGLHIPRBMOEEUKUBCVJMYQGBLLLHVSHURAACHRANUHBZNSFUOKCBMEYZPMRFTPRZAMOVAFHDIIUSARRITFOHUFUGANMYNCLEYXUINRKLBNWPDVCSLMIOVVCKZTBRXDKYVPQTELNSMCCSODXZMIAGWKNDLMFY\n",
      "--------------------------------------------------\n",
      "Key length: 8 Estimated key: EUTYRLGH\n",
      "Decrypted text (first 200 characters):\n",
      "XTCUWHCAMILGUHMDGELTRUDDTATDPNETIWSLCNUOBHRXCSPULBCTSNSEWURAVEKLYMKNOHLEHVYQHVYLAHBWJALPTSTCBPTECRLFOYVSWBCRGLCVCPECBRVRANVUWBOEGILCQIKHGSMNNQEYTRYTOSNSTIPYKYMBYHNCFSPRZNHXOYRSEHREPYCPAGOVCDYPPAOMAFPO\n",
      "--------------------------------------------------\n",
      "Key length: 9 Estimated key: ZNEASAQHE\n",
      "Decrypted text (first 200 characters):\n",
      "CARSVSSAMDRALASUDUFEEFRKHNICTUKIMAEFULWVNBUOPEIXPDVBCUZYWOSYWIMTPCDTFCKHMCNOGGOLACHQATRGQINNOAHLQEAESFBHAFOLYJECOJHTODOUEPOCGIVYGCMARMMPXIFTELDBYYNRNDDSTDVSBRSSVXHNSDDYNAWWSFXHILDYHWEWMARMPPRSTCHUKMWI\n",
      "--------------------------------------------------\n",
      "Key length: 10 Estimated key: ANGYESTNTQ\n",
      "Decrypted text (first 200 characters):\n",
      "BAPUJAPUXMERFUOSRLLBISDMTCTONIKNGSHRALHFFOEXPLCOWFVEDAUTHBRIMCKUYOKYMCRYFRNWFTLCEOOWWTYJEWMNMCVTNYLNFWVBWDCCEGIPALTIZPIIEUIUJUBYRMENBVMWRZMVEOEHTTYEMNTMREEEIWZSCOACSLCLKRAIZLTHPORMGWCYAIOGAYEJNWDSYDCF\n",
      "--------------------------------------------------\n",
      "Key length: 11 Estimated key: VSNGFARNYXE\n",
      "Decrypted text (first 200 characters):\n",
      "GVIMISRUSFAJTFMFKHRTLBOSKOHBPLMDIVTWNTAESDNRYLIVKVEELBUQIBETMYDUFCITSMMLUCTRULMFYWUDNNUSCUZUNAIYIOAINWVUAEIRASNKTDSABPDBAMWFHHUUXEHWMBDIFMOYGEGKFYLMFMGBAYNEODNILOIDSIDLXCAESLAVNJXWBJRJGDDYBBYRTDUMUMAD\n",
      "--------------------------------------------------\n",
      "Key length: 12 Estimated key: THEORYTHEORY\n",
      "Decrypted text (first 200 characters):\n",
      "IGREWUPAMONGSLOWTALKERSMENINPARTICULARWHODROPPEDWORDSAFEWATATIMELIKEBEANSINAHILLANDWHENIGOTTOMINNEAPOLISWHEREPEOPLETOOKALAKEWOBEGONCOMMATOMEANTHEENDOFASTORYICOULDNTSPEAKAWHOLESENTENCEINCOMPANYANDWASCO\n",
      "--------------------------------------------------\n",
      "Key length: 13 Estimated key: UYGYQAYGYFEGO\n",
      "Decrypted text (first 200 characters):\n",
      "HPPUXSKBSXAYXYUEMIETCHEGRGSDAAUAOKNEPSMBHVMFTFPDKRPDPASNKOMSOKMMOMFFHCRNFRMKSSKUYDEUCFTRTGYGUUBVGNYFAFVLGXPRHWKWIETUEIDSGROUHOPHEOKCBVAOMGHGAVWLZFTBFFNBSYCIHLMKMBIUYYRSPNCPHTXBCDFYAVOYYCRTVIGRPOTQTKXF\n",
      "--------------------------------------------------\n",
      "Key length: 14 Estimated key: GSQOKYXNBAQKUY\n",
      "Decrypted text (first 200 characters):\n",
      "VVFEDULUPCOURUMSUKUTLSIKHKSDAGUMCSOWSYKLLDEDDPLDSIURTOENUWUKCRTFBGNBLULTVBHQBTDSORAWUTBINOPNRAJBMNYLPVRBDIUPHMOEARHMIEELDHYITOOTUOUCKGPOUCLNYJURNNUEEDDPDECELVIKFOFAGTBAXPKHVLAMHBUSMLCEOMXVWBDWDKNMLYFH\n",
      "--------------------------------------------------\n",
      "Key length: 15 Estimated key: AHULUEONYPEAZRF\n",
      "Decrypted text (first 200 characters):\n",
      "BGBHTOUUSNAEMBNKDETXERWMIQMCPTKTSFRFFLCGBBLEODOHEBRDWAJHAPTTMIWHICPYHDNLMYMORMTYANHWLHRXGHMTYPFHSYGOBJCIVVOVMCEOTLIWSDKTEAUHTIGYMNAAICLODSURANXHIHRSOYTSDROSNWUTYBHJRDOESNWHSLIVICTXGCOLKWTGVZAWUDCKKWKB\n",
      "--------------------------------------------------\n"
     ]
    }
   ],
   "source": [
    "import string\n",
    "import math\n",
    "from collections import Counter\n",
    "\n",
    "# Function to clean the text: keep only uppercase letters.\n",
    "def clean_text(text):\n",
    "    return ''.join(filter(str.isalpha, text.upper()))\n",
    "\n",
    "# Typical English letter frequencies \n",
    "english_freq = {\n",
    "    'A': 0.08167, 'B': 0.01492, 'C': 0.02782, 'D': 0.04253,\n",
    "    'E': 0.12702, 'F': 0.02228, 'G': 0.02015, 'H': 0.06094,\n",
    "    'I': 0.06966, 'J': 0.00153, 'K': 0.00772, 'L': 0.04025,\n",
    "    'M': 0.02406, 'N': 0.06749, 'O': 0.07507, 'P': 0.01929,\n",
    "    'Q': 0.00095, 'R': 0.05987, 'S': 0.06327, 'T': 0.09056,\n",
    "    'U': 0.02758, 'V': 0.00978, 'W': 0.02360, 'X': 0.00150,\n",
    "    'Y': 0.01974, 'Z': 0.00074\n",
    "}\n",
    "\n",
    "# Calculate the Index of Coincidence\n",
    "def index_of_coincidence(text):\n",
    "    N = len(text)\n",
    "    freqs = Counter(text)\n",
    "    ic = sum(f * (f - 1) for f in freqs.values()) / (N * (N - 1)) if N > 1 else 0\n",
    "    return ic\n",
    "\n",
    "# Friedman test to estimate the key length\n",
    "def friedman_test(text):\n",
    "    N = len(text)\n",
    "    ic = index_of_coincidence(text)\n",
    "    # Formula to estimate the key length\n",
    "    if ((N - 1) * ic - 0.038 * N + 0.065) == 0:\n",
    "        return None\n",
    "    return (0.027 * N) / ((N - 1) * ic - 0.038 * N + 0.065)\n",
    "\n",
    "# Extract the subtext corresponding to the nth letter of the key\n",
    "def get_nth_subtext(text, n, offset):\n",
    "    return text[offset::n]\n",
    "\n",
    "# Calculate the chi-squared statistic for a fragment of text\n",
    "def chi_squared(text):\n",
    "    N = len(text)\n",
    "    freqs = Counter(text)\n",
    "    chi_sq = 0\n",
    "    for letter in string.ascii_uppercase:\n",
    "        observed = freqs.get(letter, 0)\n",
    "        expected = english_freq[letter] * N\n",
    "        if expected:\n",
    "            chi_sq += ((observed - expected) ** 2) / expected\n",
    "    return chi_sq\n",
    "\n",
    "# For each segment, attempt to guess the optimal shift (as in a Caesar cipher)\n",
    "def guess_shift(segment):\n",
    "    best_shift = None\n",
    "    best_chi = float('inf')\n",
    "    for shift in range(26):\n",
    "        # Shift each letter in the segment\n",
    "        shifted = ''.join(chr(((ord(c) - ord('A') - shift) % 26) + ord('A')) for c in segment)\n",
    "        current_chi = chi_squared(shifted)\n",
    "        if current_chi < best_chi:\n",
    "            best_chi = current_chi\n",
    "            best_shift = shift\n",
    "    return best_shift\n",
    "\n",
    "# Function to break the Vigenère cipher given a key length\n",
    "def break_vigenere(ciphertext, key_length):\n",
    "    key = []\n",
    "    for i in range(key_length):\n",
    "        segment = get_nth_subtext(ciphertext, key_length, i)\n",
    "        shift = guess_shift(segment)\n",
    "        key_letter = chr((shift % 26) + ord('A'))\n",
    "        key.append(key_letter)\n",
    "    return ''.join(key)\n",
    "\n",
    "# Function to decrypt using the found key\n",
    "def decrypt_vigenere(ciphertext, key):\n",
    "    plaintext = []\n",
    "    key_length = len(key)\n",
    "    for i, c in enumerate(ciphertext):\n",
    "        shift = ord(key[i % key_length]) - ord('A')\n",
    "        p = chr(((ord(c) - ord('A') - shift) % 26) + ord('A'))\n",
    "        plaintext.append(p)\n",
    "    return ''.join(plaintext)\n",
    "\n",
    "\n",
    "ciphertext = \"\"\"BNVSNSIHQCEELSSKKYERIFJKXUMBGYKAMQLJTYAVFBKVT\n",
    "DVBPVVRJYYLAOKYMPQSCGDLFSRLLPROYGESEBUUALRWXM\n",
    "MASAZLGLEDFJBZAVVPXWICGJXASCBYEHOSNMULKCEAHTQ\n",
    "OKMFLEBKFXLRRFDTZXCIWBJSICBGAWDVYDHAVFJXZIBKC\n",
    "GJIWEAHTTOEWTUHKRQVVRGZBXYIREMMASCSPBNLHJMBLR\n",
    "FFJELHWEYLWISTFVVYFJCMHYUYRUFSFMGESIGRLWALSWM\n",
    "NUHSIMYYITCCQPZSICEHBCCMZFEGVJYOCDEMMPGHVAAUM\n",
    "ELCMOEHVLTIPSUYILVGFLMVWDVYDBTHFRAYISYSGKVSUU\n",
    "HYHGGCKTMBLRX\"\"\"\n",
    "\n",
    "# Clean the text (keep only uppercase letters)\n",
    "ciphertext = clean_text(ciphertext)\n",
    "\n",
    "print(\"Length of ciphertext:\", len(ciphertext))\n",
    "ic = index_of_coincidence(ciphertext)\n",
    "print(\"Index of Coincidence:\", ic)\n",
    "friedman_est = friedman_test(ciphertext)\n",
    "print(\"Friedman estimated key length:\", friedman_est)\n",
    "\n",
    "# Test different key lengths (for example, from 2 to 15)\n",
    "for key_length in range(2, 16):\n",
    "    key = break_vigenere(ciphertext, key_length)\n",
    "    decrypted = decrypt_vigenere(ciphertext, key)\n",
    "    print(\"Key length:\", key_length, \"Estimated key:\", key)\n",
    "    print(\"Decrypted text (first 200 characters):\")\n",
    "    print(decrypted[:200])\n",
    "    print(\"-\" * 50)\n"
   ],
   "metadata": {
    "collapsed": false,
    "ExecuteTime": {
     "end_time": "2025-03-10T02:50:14.226340900Z",
     "start_time": "2025-03-10T02:50:14.131303500Z"
    }
   },
   "id": "43bdf40a47935b2"
  },
  {
   "cell_type": "markdown",
   "source": [
    "# Analysis and Justification of the Decryption Process\n",
    "\n",
    "This notebook explains in detail how we determined that the ciphertext is encrypted using a Vigenere cipher and that the correct key is **\"THEORY\"**. It includes statistical analyses, formulas, and code segments that support this conclusion.\n",
    "\n",
    "---\n",
    "\n",
    "## 1. Cleaning and Preparation of the Text\n",
    "\n",
    "To analyze the ciphertext properly, we first remove spaces, line breaks, and any non-alphabetical characters. This is done with the following function:\n",
    "\n",
    "```python\n",
    "def clean_text(text):\n",
    "    return ''.join(filter(str.isalpha, text.upper()))\n",
    "```\n",
    "\n",
    "This function returns a continuous string composed solely of uppercase letters\n",
    "\n",
    "---\n",
    "\n",
    "# 2. Calculation of the Index of Coincidence (IC)\n",
    "\n",
    "The **Index of Coincidence (IC)** is a statistical measure used to estimate the probability that two randomly selected letters from the text are the same. Its formula is:\n",
    "\n",
    "$$\n",
    "IC = \\frac{\\sum_{i=1}^{26} f_i (f_i - 1)}{N (N - 1)}\n",
    "$$\n",
    "\n",
    "where:\n",
    "- $$f_i$$ is the frequency of the i-th letter in the text.\n",
    "- $$N$$ is the total number of letters in the text.\n",
    "\n",
    "For an English text encrypted with a monoalphabetic cipher (like a simple substitution), the IC is close to 0.0667. In contrast, a polyalphabetic cipher such as Vigenère typically yields an IC near 0.038, which is similar to that of a random text.\n",
    "\n",
    "For our ciphertext:\n",
    "- **Text length (N):** 373  \n",
    "- **IC:** 0.04138\n",
    "\n",
    "This low IC value suggests a polyalphabetic cipher, supporting the hypothesis that the encryption method is Vigenère.\n",
    "\n",
    "---\n",
    "\n",
    "# 3. Estimation of the Key Length: Friedman Test\n",
    "\n",
    "The **Friedman Test** uses the IC to provide an estimate of the key length \\( K \\) with the formula:\n",
    "\n",
    "$$\n",
    "K \\approx \\frac{0.027N}{(N-1) \\times IC - 0.038N + 0.065}\n",
    "$$\n",
    "\n",
    "Substituting \\( N = 373 \\) and \\( IC \\approx 0.04138 \\) yields:\n",
    "\n",
    "$$\n",
    "K \\approx \\frac{0.027 \\times 373}{(372) \\times 0.04138 - 0.038 \\times 373 + 0.065} \\approx 7.84\n",
    "$$\n",
    "\n",
    "This estimation suggests that the key length is approximately 8, which helps to narrow down the range of key lengths we need to test.\n",
    "\n",
    "---\n",
    "\n",
    "# 4. Segment Analysis and Chi-Squared Statistic\n",
    "\n",
    "Assuming the cipher is Vigenère, we then perform the following steps:\n",
    "\n",
    "## Dividing the Text into Segments\n",
    "For a key of length \\( k \\), we split the ciphertext into \\( k \\) sequences. Each sequence is effectively encrypted with a Caesar cipher (a constant shift).\n",
    "\n",
    "## Determining the Optimal Shift for Each Segment\n",
    "For each segment, we calculate the **Chi-Squared statistic** to compare the observed letter frequencies with the expected frequencies based on typical English usage. The Chi-Squared formula is:\n",
    "\n",
    "$$\n",
    "\\chi^2 = \\sum_{i=1}^{26} \\frac{(O_i - E_i)^2}{E_i}\n",
    "$$\n",
    "\n",
    "where:\n",
    "- $O_i$ is the observed frequency of letter $i$ in the segment.\n",
    "- $E_i$ is the expected frequency computed as $(typical English frequency) \\times N_{\\text{segment}}$.\n",
    "\n",
    "\n",
    "The shift that minimizes the Chi-Squared value is chosen as the best candidate for that segment.\n",
    "\n",
    "---\n",
    "\n",
    "# 5. Evaluation of Different Key Lengths\n",
    "\n",
    "The code tests key lengths ranging from 2 to 15. Notably:\n",
    "\n",
    "- **For \\( k = 6 \\):**  \n",
    "  The key `\"THEORY\"` is obtained, and the decrypted text is legible and coherent in English.\n",
    "\n",
    "- **For \\( k = 12 \\):**  \n",
    "  The key `\"THEORYTHEORY\"` is produced, which is simply the repetition of the 6-character key. This confirms the solution.\n",
    "\n",
    "The decrypted output with `\"THEORY\"` (or its repetition for a key length of 12) is the only one that yields a coherent and understandable English text. This validates the methodology and confirms that the correct decryption key is **\"THEORY\"**.\n",
    "\n",
    "---\n",
    "\n",
    "# Conclusion\n",
    "\n",
    "To summarize:\n",
    "\n",
    "- **Text Cleaning:** We removed all irrelevant characters to work with a continuous sequence of uppercase letters.\n",
    "- **Index of Coincidence:** The calculated IC of approximately 0.04138 indicates a polyalphabetic cipher.\n",
    "- **Friedman Test:** The estimated key length of about 7.84 suggests a key length near 8.\n",
    "- **Segment Analysis:** By splitting the text into segments and minimizing the Chi-Squared statistic, we determined the optimal shifts.\n",
    "- **Key Identification:** The only key that produces a legible English text is `\"THEORY\"` (or its repetition `\"THEORYTHEORY\"` when the key length is 12).\n",
    "\n",
    "These combined analyses and statistical evaluations demonstrate that the cipher is indeed Vigenère and that the correct decryption key is **\"THEORY\"**.\n"
   ],
   "metadata": {
    "collapsed": false
   },
   "id": "d31049743a1eec2b"
  },
  {
   "cell_type": "markdown",
   "source": [
    "# 2.4"
   ],
   "metadata": {
    "collapsed": false
   },
   "id": "227de3e11904650a"
  },
  {
   "cell_type": "markdown",
   "source": [
    "**4. Prove that the Affine Cipher achieves perfect secrecy if every key is used with equal probability $\\frac{1}{312}$ .**"
   ],
   "metadata": {
    "collapsed": false
   },
   "id": "76f111690a2276a7"
  },
  {
   "cell_type": "markdown",
   "source": [
    "## Proof of Perfect Secrecy for the Affine Cipher\n",
    "\n",
    "To prove that the **Affine Cipher** achieves **perfect secrecy** under the condition that each key is used with equal probability $\\frac{1}{312}$, we must verify whether it satisfies **Claude Shannon's** definition of perfect secrecy:\n",
    "\n",
    "\n",
    "$$P(M | C) = P(M)$$\n",
    "\n",
    "\n",
    "for all plaintext messages $M$ and ciphertexts $C$, where $P(M | C)$ is the conditional probability of a plaintext given a ciphertext.\n",
    "\n",
    "### **1: Understanding the Affine Cipher**\n",
    "\n",
    "The **Affine Cipher** is a substitution cipher that encrypts a plaintext letter $x$ using the formula:\n",
    "\n",
    "\n",
    "$$C = E_K(x) = (ax + b) \\mod 26$$\n",
    "\n",
    "\n",
    "where:\n",
    "- $a$ and $b$ are integers,\n",
    "- $a$ must be coprime to 26 ($\\gcd(a,26) = 1$) to ensure the cipher is reversible,\n",
    "- $b$ can be any number between 0 and 25.\n",
    "\n",
    "The key $K$ consists of the pair $(a, b)$, where:\n",
    "- $a$ has **12 possible values** (the numbers coprime to 26: 1, 3, 5, 7, 9, 11, 15, 17, 19, 21, 23, 25),\n",
    "- $b$ has **26 possible values**.\n",
    "\n",
    "The total number of keys is:\n",
    "\n",
    "\n",
    "$$|K| = 12 \\times 26 = 312.$$"
   ],
   "metadata": {
    "collapsed": false
   },
   "id": "f59a65ce5a94fa43"
  },
  {
   "cell_type": "markdown",
   "source": [
    "### **1: Understanding the Affine Cipher**\n",
    "\n",
    "The **Affine Cipher** is a substitution cipher that encrypts a plaintext letter $x$ using the formula:\n",
    "\n",
    "\n",
    "$$C = E_K(x) = (ax + b) \\mod 26$$\n",
    "\n",
    "\n",
    "where:\n",
    "- $a$ and $b$ are integers,\n",
    "- $a$ must be coprime to 26 ($\\gcd(a,26) = 1$) to ensure the cipher is reversible,\n",
    "- $b$ can be any number between 0 and 25.\n",
    "\n",
    "The key $K$ consists of the pair $(a, b)$, where:\n",
    "- $a$ has **12 possible values** (the numbers coprime to 26: 1, 3, 5, 7, 9, 11, 15, 17, 19, 21, 23, 25),\n",
    "- $b$ has **26 possible values**.\n",
    "\n",
    "The total number of keys is:\n",
    "\n",
    "\n",
    "$$|K| = 12 \\times 26 = 312.$$"
   ],
   "metadata": {
    "collapsed": false
   },
   "id": "7e4af602f522829"
  },
  {
   "cell_type": "markdown",
   "source": [
    "\n",
    "### **2: Verifying the Perfect Secrecy Condition**\n",
    "\n",
    "Perfect secrecy requires that the probability distribution of plaintexts, given the observation of a ciphertext, is identical to the initial distribution of plaintexts.\n",
    "\n",
    "We need to verify that:\n",
    "\n",
    "$$P(M | C) = P(M)$$\n",
    "\n",
    "for every plaintext $M$ and ciphertext $C$.\n",
    "\n",
    "With **Bayes' theorem** we can express $P(M | C)$ as:\n",
    "\n",
    "\n",
    "$$P(M | C) = \\frac{P(C | M) P(M)}{P(C)}$$\n",
    "\n",
    "\n",
    "**Assumption:** For a uniform distribution of plaintexts:\n",
    "\n",
    "\n",
    "$$P(M) = \\frac{1}{26}, \\quad \\text{for all } M.$$\n"
   ],
   "metadata": {
    "collapsed": false
   },
   "id": "af3a92b76a249f86"
  },
  {
   "cell_type": "markdown",
   "source": [
    "\n",
    "### **3: Computing $P(C | M)$**\n",
    "\n",
    "Since each key is chosen with equal probability $P(K) = \\frac{1}{312}$, the encryption function is a **one-to-one mapping** for each specific key. Given a plaintext $M$, each key produces a unique ciphertext $C$.\n",
    "\n",
    "Thus, the conditional probability that a plaintext $M$ encrypts to $C$ is:\n",
    "\n",
    "\n",
    "$$ P(C | M) = \\frac{1}{26}, \\quad \\text{for all } C.$$\n",
    "\n"
   ],
   "metadata": {
    "collapsed": false
   },
   "id": "c6a7373274d1320b"
  },
  {
   "cell_type": "markdown",
   "source": [
    "### **4: Computing $P(C)$**\n",
    "\n",
    "Since encryption is a **permutation** under any valid key, each ciphertext $C$ is equally probable:\n",
    "\n",
    "\n",
    "$$P(C) = \\sum_{M} P(C | M) P(M) = \\sum_{M} \\frac{1}{26} \\times \\frac{1}{26} = \\frac{1}{26}.$$\n"
   ],
   "metadata": {
    "collapsed": false
   },
   "id": "3cb0547be24a72f3"
  },
  {
   "cell_type": "markdown",
   "source": [
    "\n",
    "\n",
    "### **5. Verifying the Perfect Secrecy Condition**\n",
    "\n",
    "Now we compute:\n",
    "\n",
    "$$P(M | C) = \\frac{P(C | M) P(M)}{P(C)} = \\frac{\\frac{1}{26} \\times \\frac{1}{26}}{\\frac{1}{26}} = \\frac{1}{26} = P(M).$$\n",
    "\n",
    "Since this equality holds for **all** plaintexts $M$ and ciphertexts $C$, we conclude that the **Affine Cipher satisfies perfect secrecy** when all keys are used with equal probability $\\frac{1}{312}$.\n",
    "\n"
   ],
   "metadata": {
    "collapsed": false
   },
   "id": "350372ee9b1d8593"
  },
  {
   "cell_type": "markdown",
   "source": [
    "# 2.5"
   ],
   "metadata": {
    "collapsed": false
   },
   "id": "77a75f4aacdfbf12"
  },
  {
   "cell_type": "markdown",
   "source": [
    "**5. Prove that if a cryptosystem has perfect secrecy and |K|= |C|= |P|, then every ciphertext is equally probable.**\n"
   ],
   "metadata": {
    "collapsed": false
   },
   "id": "921a7021a587c0e9"
  },
  {
   "cell_type": "markdown",
   "source": [
    "\n",
    "## **1. Definition of Perfect Secrecy**\n",
    "A cryptosystem has **perfect secrecy** if for every plaintext \\( p \\) and every ciphertext \\( c \\):\n",
    "\n",
    "$$P(P = p | C = c) = P(P = p)$$\n",
    "\n",
    "This means that observing the ciphertext does not change the probability distribution of the plaintext.\n",
    "\n",
    "Using **Bayes' theorem**, this can be rewritten as:\n",
    "\n",
    "$$P(C = c | P = p) = P(C = c)$$\n",
    "\n",
    "for all $( p \\in P )$ and $( c \\in C ).$\n"
   ],
   "metadata": {
    "collapsed": false
   },
   "id": "bd2545dbc310e3e3"
  },
  {
   "cell_type": "markdown",
   "source": [
    "## **Step 2: Expressing the Probability of a Ciphertext**\n",
    "Using the law of total probability, the probability of a ciphertext \\( c \\) is given by:\n",
    "\n",
    "$$P(C = c) = \\sum_{p \\in P} P(C = c | P = p) P(P = p).$$\n",
    "\n",
    "Since we assume a **uniform plaintext distribution**, we have:\n",
    "\n",
    "$$P(P = p) = \\frac{1}{|P|}$$\n",
    "\n",
    "for all $( p \\in P )$. Given that perfect secrecy implies that $( P(C = c | P = p))$ is independent of $( p )$, let’s define:\n",
    "\n",
    "\n",
    "$$P(C = c | P = p) = q_c$$\n",
    "\n",
    "\n",
    "for some constant $( q_c )$, independent of $( p )$. Substituting this into our probability equation:\n",
    "\n",
    "$$P(C = c) = \\sum_{p \\in P} q_c P(P = p) = \\sum_{p \\in P} q_c \\frac{1}{|P|}$$\n",
    "\n",
    "Since there are $( |P| )$ possible plaintexts, this simplifies to:\n",
    "\n",
    "$$P(C = c) = q_c \\cdot |P| \\cdot \\frac{1}{|P|} = q_c.$$"
   ],
   "metadata": {
    "collapsed": false
   },
   "id": "3d8092cff23147cd"
  },
  {
   "cell_type": "markdown",
   "source": [
    "## **Step 3: Proving Equal Probability for Each Ciphertext**\n",
    "For the system to satisfy perfect secrecy, every ciphertext must appear with the same probability. Given that \\( |K| = |C| = |P| \\), each plaintext is encrypted uniformly across the key space. Thus, each ciphertext is equally probable:\n",
    "\n",
    "$$P(C = c) = \\frac{1}{|C|}$$\n",
    "\n",
    "for all $( c \\in C )$. Since $( |C| = |P| )$ , we conclude:\n",
    "\n",
    "$$P(C = c) = \\frac{1}{|P|}$$\n",
    "\n",
    "for all $( c )$, meaning **every ciphertext occurs with equal probability**.\n"
   ],
   "metadata": {
    "collapsed": false
   },
   "id": "e09a8670a4f50eef"
  },
  {
   "cell_type": "markdown",
   "source": [
    "## **Conclusion**\n",
    "We have shown that under the given conditions, every ciphertext is equally likely to occur, meaning the ciphertext follows a **uniform distribution**:\n",
    "\n",
    "$$P(C = c) = \\frac{1}{|C|}$$\n",
    "\n",
    "for all $( c \\in C )$, completing the proof."
   ],
   "metadata": {
    "collapsed": false
   },
   "id": "451ba028a7948f70"
  },
  {
   "cell_type": "markdown",
   "source": [],
   "metadata": {
    "collapsed": false
   },
   "id": "f5493b52bb783ad2"
  }
 ],
 "metadata": {
  "kernelspec": {
   "display_name": "Python 3",
   "language": "python",
   "name": "python3"
  },
  "language_info": {
   "codemirror_mode": {
    "name": "ipython",
    "version": 2
   },
   "file_extension": ".py",
   "mimetype": "text/x-python",
   "name": "python",
   "nbconvert_exporter": "python",
   "pygments_lexer": "ipython2",
   "version": "2.7.6"
  }
 },
 "nbformat": 4,
 "nbformat_minor": 5
}
