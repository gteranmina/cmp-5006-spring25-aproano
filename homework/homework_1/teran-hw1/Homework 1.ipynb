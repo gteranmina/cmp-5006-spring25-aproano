{
 "cells": [
  {
   "cell_type": "markdown",
   "id": "234184f7",
   "metadata": {},
   "source": [
    "# CMP 5006 - Information Security \n",
    "\n",
    "## Homework 1\n",
    "\n",
    "- Work in groups of 2 or  3\n",
    "- For submission, clone the class repo and create a branch for your homework. You will add your homework to the \"homework_1\" folder. Create a folder inside with the name format \"last_name-hw1\". Submit a pull request.\n",
    "- In D2L submit a zip file with your homework, and in the comments include the link to your pull request.\n",
    "- Also, in D2L include a grade (between 0 and 10) evaluating the work collaboration of your partners. "
   ]
  },
  {
   "cell_type": "markdown",
   "id": "1b0d335b",
   "metadata": {},
   "source": [
    "## Part 1. Pico CTF\n",
    "\n",
    "- Solve the problems in assignment 1\n",
    "- For each problem provide 2 different techniques to solve the same problem\n",
    "- Submit the solution in PicoCTF\n",
    "- Capture all the methodology to solve the challenges using code or screenshots, and attach it to your Github submission"
   ]
  },
  {
   "cell_type": "markdown",
   "id": "a4678d7c",
   "metadata": {},
   "source": [
    "## Part 2. Theory \n",
    "\n",
    "**1. If an encryption function $e_K$ is identical to the decryption function $d_K$, then the key $K$ is said to be an involutory key. Find all the involutory keys in the Shift Cipher**\n",
    "\n",
    "**2. Suppose that π is the following permutation of $x \\in \\{1, . . . , 8\\}: \\pi(x) = \\{4, 1, 6, 2, 7, 3, 8, 5\\}$.**\n",
    "- Compute $\\pi^{-1}$\n",
    "- Decrypt the following ciphertext, for a Permutation Cipher with m = 8, which was encrypted using the key $\\pi$: TGEEMNELNNTDROEOAAHDOETCSHAEIRLM\n",
    "\n",
    "**3. Below are given four examples of ciphertext, one obtained from a Substitution Cipher, one from a Vigenere Cipher, one from an Affine Cipher, and one unspecified. In each case, the task is to determine the plaintext. Give a clearly written description of the steps you followed to decrypt each ciphertext. This should include all statistical analysis and computations you performed.**\n",
    "\n",
    "- Substitution:\n",
    "```\n",
    "EMGLOSUDCGDNCUSWYSFHNSFCYKDPUMLWGYICOXYSIPJCK\n",
    "QPKUGKMGOLICGINCGACKSNISACYKZSCKXECJCKSHYSXCG\n",
    "OIDPKZCNKSHICGIWYGKKGKGOLDSILKGOIUSIGLEDSPWZU\n",
    "GFZCCNDGYYSFUSZCNXEOJNCGYEOWEUPXEZGACGNFGLKNS\n",
    "ACIGOIYCKXCJUCIUZCFZCCNDGYYSFEUEKUZCSOCFZCCNC\n",
    "IACZEJNCSHFZEJZEGMXCYHCJUMGKUCY\n",
    "```\n",
    "\n",
    "- Vigenere Cipher:\n",
    "```\n",
    "KCCPKBGUFDPHQTYAVINRRTMVGRKDNBVFDETDGILTXRGUD\n",
    "DKOTFMBPVGEGLTGCKQRACQCWDNAWCRXIZAKFTLEWRPTYC\n",
    "QKYVXCHKFTPONCQQRHJVAJUWETMCMSPKQDYHJVDAHCTRL\n",
    "SVSKCGCZQQDZXGSFRLSWCWSJTBHAFSIASPRJAHKJRJUMV\n",
    "GKMITZHFPDISPZLVLGWTFPLKKEBDPGCEBSHCTJRWXBAFS\n",
    "PEZQNRWXCVYCGAONWDDKACKAWBBIKFTIOVKCGGHJVLNHI\n",
    "FFSQESVYCLACNVRWBBIREPBBVFEXOSCDYGZWPFDTKFQIY\n",
    "CWHJVLNHIQIBTKHJVNPIST\n",
    "```\n",
    "- Affine Cipher:\n",
    "```\n",
    "KQEREJEBCPPCJCRKIEACUZBKRVPKRBCIBQCARBJCVFCUP\n",
    "KRIOFKPACUZQEPBKRXPEIIEABDKPBCPFCDCCAFIEABDKP\n",
    "BCPFEQPKAZBKRHAIBKAPCCIBURCCDKDCCJCIDFUIXPAFF\n",
    "ERBICZDFKABICBBENEFCUPJCVKABPCYDCCDPKBCOCPERK\n",
    "IVKSCPICBRKIJPKABI\n",
    "```\n",
    "- Other cipher:\n",
    "```\n",
    "BNVSNSIHQCEELSSKKYERIFJKXUMBGYKAMQLJTYAVFBKVT\n",
    "DVBPVVRJYYLAOKYMPQSCGDLFSRLLPROYGESEBUUALRWXM\n",
    "MASAZLGLEDFJBZAVVPXWICGJXASCBYEHOSNMULKCEAHTQ\n",
    "OKMFLEBKFXLRRFDTZXCIWBJSICBGAWDVYDHAVFJXZIBKC\n",
    "GJIWEAHTTOEWTUHKRQVVRGZBXYIREMMASCSPBNLHJMBLR\n",
    "FFJELHWEYLWISTFVVYFJCMHYUYRUFSFMGESIGRLWALSWM\n",
    "NUHSIMYYITCCQPZSICEHBCCMZFEGVJYOCDEMMPGHVAAUM\n",
    "ELCMOEHVLTIPSUYILVGFLMVWDVYDBTHFRAYISYSGKVSUU\n",
    "HYHGGCKTMBLRX\n",
    "```\n",
    "\n",
    "**4. Prove that the Affine Cipher achieves perfect secrecy if every key is used with equal probability 1/312.**\n",
    "\n",
    "**5. Prove that if a cryptosystem has perfect secrecy and |K|= |C|= |P|, then every ciphertext is equally probable.**\n",
    "\n",
    "**6. Use the EXTENDED EUCLIDEAN ALGORITHM to compute the following multiplicative inverses:**\n",
    "-  $17^{−1} \\mod 101$\n",
    "- $357^{−1} \\mod 1234$\n",
    "- $3125^{−1} \\mod 9987$\n",
    "\n"
   ]
  }
 ],
 "metadata": {
  "kernelspec": {
   "display_name": "Python 3 (ipykernel)",
   "language": "python",
   "name": "python3"
  },
  "language_info": {
   "codemirror_mode": {
    "name": "ipython",
    "version": 3
   },
   "file_extension": ".py",
   "mimetype": "text/x-python",
   "name": "python",
   "nbconvert_exporter": "python",
   "pygments_lexer": "ipython3",
   "version": "3.12.3"
  }
 },
 "nbformat": 4,
 "nbformat_minor": 5
}
